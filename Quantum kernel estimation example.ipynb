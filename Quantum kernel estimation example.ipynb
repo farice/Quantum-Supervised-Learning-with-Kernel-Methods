{
 "cells": [
  {
   "cell_type": "markdown",
   "metadata": {},
   "source": [
    "# Quantum kernel estimation"
   ]
  },
  {
   "cell_type": "markdown",
   "metadata": {},
   "source": [
    "This is an implementation of the squeezing feature map together with the \"implicit classifier\", as in [Schuld and Killoran (2018)](https://arxiv.org/abs/1803.07128). \n",
    "\n",
    "We classify a linearly separable, 2-dimensional binary dataset. We evaluate the kernel using a quantum circuit and performing the classification classically."
   ]
  },
  {
   "cell_type": "markdown",
   "metadata": {},
   "source": [
    "### Imports"
   ]
  },
  {
   "cell_type": "code",
   "execution_count": 1,
   "metadata": {
    "collapsed": true
   },
   "outputs": [],
   "source": [
    "import pennylane as qml\n",
    "from pennylane import numpy as np\n",
    "from pennylane.optimize import AdagradOptimizer"
   ]
  },
  {
   "cell_type": "markdown",
   "metadata": {},
   "source": [
    "We use the Strawberry Fields simulator with two quantum modes or \"wires\"."
   ]
  },
  {
   "cell_type": "code",
   "execution_count": 2,
   "metadata": {
    "collapsed": true
   },
   "outputs": [],
   "source": [
    "try:\n",
    "    dev = qml.device('strawberryfields.fock', wires=2, cutoff_dim=10)\n",
    "except:\n",
    "    print(\"To run this demo you need to install the strawberryfields plugin...\")"
   ]
  },
  {
   "cell_type": "markdown",
   "metadata": {},
   "source": [
    "### Quantum node\n",
    "\n",
    "First, the input is \"encoded into Hilbert space\" by a squeezing feature map."
   ]
  },
  {
   "cell_type": "code",
   "execution_count": 15,
   "metadata": {
    "collapsed": true
   },
   "outputs": [],
   "source": [
    "def featuremap(x):\n",
    "    # r = 0.6 (squeezing amount)\n",
    "    # phi (squeezing angle) is given by features\n",
    "    qml.Squeezing(0.6, x[0], wires=0)\n",
    "    qml.Squeezing(0.6, x[1], wires=1)"
   ]
  },
  {
   "cell_type": "markdown",
   "metadata": {},
   "source": [
    "Next, a layered circuit serves as a trainable linear classifier in Hilbert space. A single layer is defined as:"
   ]
  },
  {
   "cell_type": "code",
   "execution_count": 16,
   "metadata": {
    "collapsed": true
   },
   "outputs": [],
   "source": [
    "def layer(v):\n",
    "\n",
    "    qml.Beamsplitter(v[0], v[1], wires=[0, 1])\n",
    "\n",
    "    # linear gates\n",
    "    qml.Displacement(v[2], 0., wires=0)\n",
    "    qml.Displacement(v[3], 0., wires=1)\n",
    "\n",
    "    # quadratic gates\n",
    "    qml.QuadraticPhase(v[4], wires=0)\n",
    "    qml.QuadraticPhase(v[5], wires=1)\n",
    "\n",
    "    # cubic gates\n",
    "    qml.CubicPhase(v[6], wires=0)\n",
    "    qml.CubicPhase(v[7], wires=1)"
   ]
  },
  {
   "cell_type": "markdown",
   "metadata": {},
   "source": [
    "We use two variational circuits encapsulated within quantum nodes. Both first encode the input via the feature map and then execute the layers of the classifier. The first quantum node returns the expectation of measuring 2 photons in mode 0 and 0 photons in mode 1 (Fock state |2,0>); the second quantum node returns the expectation of Fock state |0,2>."
   ]
  },
  {
   "cell_type": "code",
   "execution_count": 5,
   "metadata": {
    "collapsed": true
   },
   "outputs": [],
   "source": [
    "@qml.qnode(dev)\n",
    "def circuit1(var, x=None):\n",
    "    featuremap(x)\n",
    "    for v in var:\n",
    "        layer(v)\n",
    "    return qml.expval.NumberState(np.array([2, 0]), wires=[0, 1])\n",
    "\n",
    "\n",
    "@qml.qnode(dev)\n",
    "def circuit2(var, x=None):\n",
    "    featuremap(x)\n",
    "    for v in var:\n",
    "        layer(v)\n",
    "    return qml.expval.NumberState(np.array([0, 2]), wires=[0, 1])"
   ]
  },
  {
   "cell_type": "markdown",
   "metadata": {},
   "source": [
    "The quantum classifier executes these circuits and computes the normalized probability of measuring Fock state  |2,0> instead of |0,2>."
   ]
  },
  {
   "cell_type": "code",
   "execution_count": 6,
   "metadata": {
    "collapsed": true
   },
   "outputs": [],
   "source": [
    "def qclassifier(var, x=None):\n",
    "    p1 = circuit1(var, x=x)\n",
    "    p2 = circuit2(var, x=x)\n",
    "    return p1 / (p1 + p2)"
   ]
  },
  {
   "cell_type": "markdown",
   "metadata": {},
   "source": [
    "We construct one more 'virtual' circuit which is useful for simulations with the `strawberryfields.fock` backend. It applies the feature map and layers as in `circuit1` and `circuit2`, but measures the identity operator. Effectively, this returns the trace of the final state before measurement. "
   ]
  },
  {
   "cell_type": "code",
   "execution_count": 7,
   "metadata": {
    "collapsed": true
   },
   "outputs": [],
   "source": [
    "@qml.qnode(dev)\n",
    "def trace(var, x=None):\n",
    "    featuremap(x)\n",
    "    for v in var:\n",
    "        layer(v)\n",
    "    return qml.expval.Identity([0, 1])"
   ]
  },
  {
   "cell_type": "markdown",
   "metadata": {},
   "source": [
    "### Objective"
   ]
  },
  {
   "cell_type": "markdown",
   "metadata": {},
   "source": [
    "In the cost function we obtain the outputs from the variational circuit, and compute the square loss compared with the target labels `Y`. Here we use Penny Lane's numpy library for the square loss.\n",
    "\n",
    "We also add an L2 regularization to the cost, penalizing when the norm of the weight vector gets large. This is not only useful for generalization, but also to keep parameters in the regime where the fock backend is accurate."
   ]
  },
  {
   "cell_type": "code",
   "execution_count": 8,
   "metadata": {
    "collapsed": true
   },
   "outputs": [],
   "source": [
    "def cost(var, X, Y):\n",
    "    outpts = np.array([qclassifier(var, x=x) for x in X])\n",
    "    squareloss = np.mean((Y - outpts) ** 2)\n",
    "    l2regularization = np.sum(np.inner(var, var))\n",
    "    return squareloss + 0.001 * l2regularization"
   ]
  },
  {
   "cell_type": "markdown",
   "metadata": {},
   "source": [
    "### Optimization"
   ]
  },
  {
   "cell_type": "markdown",
   "metadata": {},
   "source": [
    "We set the seed to make the random operations deterministic and reproducable."
   ]
  },
  {
   "cell_type": "code",
   "execution_count": 9,
   "metadata": {
    "collapsed": true
   },
   "outputs": [],
   "source": [
    "np.random.seed(0)"
   ]
  },
  {
   "cell_type": "markdown",
   "metadata": {},
   "source": [
    "We load data samples from the moons dataset and split it into a training and validation set."
   ]
  },
  {
   "cell_type": "code",
   "execution_count": 11,
   "metadata": {
    "collapsed": true
   },
   "outputs": [],
   "source": [
    "# load function data\n",
    "data = np.loadtxt(\"data/blobs.txt\")\n",
    "X = data[:, 0:2]\n",
    "Y = data[:, 2]\n",
    "\n",
    "# split into training and validation set\n",
    "num_data = len(Y)\n",
    "num_train = int(0.5 * num_data)\n",
    "index = np.random.permutation(range(num_data))\n",
    "X_train = X[index[: num_train]]\n",
    "Y_train = Y[index[: num_train]]\n",
    "X_val = X[index[num_train: ]]\n",
    "Y_val = Y[index[num_train: ]]"
   ]
  },
  {
   "cell_type": "markdown",
   "metadata": {},
   "source": [
    "Before we train a model, let's take an initial look at the data.\n",
    "\n",
    "*Note: For the next cell to work you need the matplotlib library.* "
   ]
  },
  {
   "cell_type": "code",
   "execution_count": 12,
   "metadata": {},
   "outputs": [
    {
     "data": {
      "image/png": "[encoded data removed]",
      "text/plain": [
       "<matplotlib.figure.Figure at 0x11e89bc88>"
      ]
     },
     "metadata": {},
     "output_type": "display_data"
    }
   ],
   "source": [
    "import matplotlib.pyplot as plt\n",
    "%matplotlib inline  \n",
    "plt.figure()\n",
    "plt.scatter(X_train[:,0][Y_train==0], X_train[:,1][Y_train==0], marker='o', color='red', label='train 0')\n",
    "plt.scatter(X_val[:,0][Y_val==0], X_val[:,1][Y_val==0], marker='^', color='red', label='validation 0')\n",
    "plt.scatter(X_train[:,0][Y_train==1], X_train[:,1][Y_train==1], marker='^', color='blue', label='train 1')\n",
    "plt.scatter(X_val[:,0][Y_val==1], X_val[:,1][Y_val==1], marker='o', color='blue', label='validation 1')\n",
    "plt.xlabel('x1')\n",
    "plt.ylabel('x2')\n",
    "plt.legend()\n",
    "plt.show()"
   ]
  },
  {
   "cell_type": "markdown",
   "metadata": {},
   "source": [
    "The trainable circuit parameters (called variables internally in PennyLane) are initialized with values sampled from a normal distribution. We use 4 layers."
   ]
  },
  {
   "cell_type": "code",
   "execution_count": 13,
   "metadata": {},
   "outputs": [
    {
     "data": {
      "text/plain": [
       "array([[ 0.04253934, -0.00279712,  0.14759898,  0.06467801, -0.03643343,\n",
       "        -0.06787774, -0.03536279, -0.07407475],\n",
       "       [-0.06750218, -0.01327843,  0.06198011,  0.17911685,  0.01710004,\n",
       "        -0.17256714,  0.01606585, -0.08589853],\n",
       "       [-0.02064209,  0.04884265, -0.0838331 ,  0.03811637, -0.09909033,\n",
       "         0.101788  ,  0.03415874, -0.12508862],\n",
       "       [ 0.09252508, -0.09047862,  0.18436915,  0.15255072, -0.14455356,\n",
       "         0.03771606, -0.00705572,  0.06041597]])"
      ]
     },
     "execution_count": 13,
     "metadata": {},
     "output_type": "execute_result"
    }
   ],
   "source": [
    "num_layers = 4\n",
    "var_init = 0.1 * np.random.randn(num_layers, 8)\n",
    "\n",
    "var_init"
   ]
  },
  {
   "cell_type": "markdown",
   "metadata": {},
   "source": [
    "We choose the Adam optimizer and update the weights for 150 steps with a batch size of 5. Every 5 steps the accuracy is computed for the entire training set. You will find that by changing the random seed, training may converge faster or slower.\n",
    "\n",
    "*Fluctuations in the training stemming from stochastic gradient descent are possible, which uses only a few data points in every update, as well as the choice of the learning rate. Sometimes, the cost decreases but the accuracy does not. Play around with the hyperparameters to investigate the convergence behavious. For example, choose a smaller stepsize to make training smoother - but at the price of converging slower. *"
   ]
  },
  {
   "cell_type": "code",
   "execution_count": 14,
   "metadata": {
    "scrolled": true
   },
   "outputs": [
    {
     "name": "stdout",
     "output_type": "stream",
     "text": [
      "Iter:     1 | Cost: 0.2985429 | Accuracy train/validation: 0.56/0.44 | Trace: 0.99799\n",
      "Iter:     2 | Cost: 0.2696698 \n",
      "Iter:     3 | Cost: 0.2689670 \n",
      "Iter:     4 | Cost: 0.2474093 \n",
      "Iter:     5 | Cost: 0.2351956 \n",
      "Iter:     6 | Cost: 0.2516888 \n",
      "Iter:     7 | Cost: 0.2178556 \n",
      "Iter:     8 | Cost: 0.2947281 \n",
      "Iter:     9 | Cost: 0.2339875 \n",
      "Iter:    10 | Cost: 0.2089900 \n",
      "Iter:    11 | Cost: 0.2242606 | Accuracy train/validation: 0.56/0.60 | Trace: 0.99806\n",
      "Iter:    12 | Cost: 0.2091815 \n",
      "Iter:    13 | Cost: 0.2272281 \n",
      "Iter:    14 | Cost: 0.2222120 \n",
      "Iter:    15 | Cost: 0.1987857 \n",
      "Iter:    16 | Cost: 0.1968113 \n",
      "Iter:    17 | Cost: 0.1962748 \n",
      "Iter:    18 | Cost: 0.2039026 \n",
      "Iter:    19 | Cost: 0.1961442 \n",
      "Iter:    20 | Cost: 0.1913501 \n",
      "Iter:    21 | Cost: 0.1884649 | Accuracy train/validation: 0.90/0.98 | Trace: 0.99803\n",
      "Iter:    22 | Cost: 0.1901138 \n",
      "Iter:    23 | Cost: 0.1860582 \n",
      "Iter:    24 | Cost: 0.1890875 \n",
      "Iter:    25 | Cost: 0.2159293 \n",
      "Iter:    26 | Cost: 0.2010807 \n",
      "Iter:    27 | Cost: 0.1840501 \n",
      "Iter:    28 | Cost: 0.2078952 \n",
      "Iter:    29 | Cost: 0.1930461 \n",
      "Iter:    30 | Cost: 0.1999699 \n",
      "Iter:    31 | Cost: 0.1811286 | Accuracy train/validation: 0.72/0.78 | Trace: 0.99799\n",
      "Iter:    32 | Cost: 0.1808913 \n",
      "Iter:    33 | Cost: 0.1792578 \n",
      "Iter:    34 | Cost: 0.1777879 \n",
      "Iter:    35 | Cost: 0.1813360 \n",
      "Iter:    36 | Cost: 0.1826355 \n",
      "Iter:    37 | Cost: 0.1847456 \n",
      "Iter:    38 | Cost: 0.2087087 \n",
      "Iter:    39 | Cost: 0.1737943 \n",
      "Iter:    40 | Cost: 0.1720643 \n",
      "Iter:    41 | Cost: 0.1867786 | Accuracy train/validation: 0.82/0.84 | Trace: 0.99796\n",
      "Iter:    42 | Cost: 0.1705281 \n",
      "Iter:    43 | Cost: 0.1726417 \n",
      "Iter:    44 | Cost: 0.1691880 \n",
      "Iter:    45 | Cost: 0.1679040 \n",
      "Iter:    46 | Cost: 0.1726383 \n",
      "Iter:    47 | Cost: 0.1665214 \n",
      "Iter:    48 | Cost: 0.1654981 \n",
      "Iter:    49 | Cost: 0.1650548 \n",
      "Iter:    50 | Cost: 0.1660038 \n",
      "Iter:    51 | Cost: 0.1631383 | Accuracy train/validation: 0.98/0.98 | Trace: 0.99795\n",
      "Iter:    52 | Cost: 0.1623232 \n",
      "Iter:    53 | Cost: 0.1625885 \n",
      "Iter:    54 | Cost: 0.1602970 \n",
      "Iter:    55 | Cost: 0.1876372 \n",
      "Iter:    56 | Cost: 0.1876829 \n",
      "Iter:    57 | Cost: 0.1930346 \n",
      "Iter:    58 | Cost: 0.1947469 \n",
      "Iter:    59 | Cost: 0.1728387 \n",
      "Iter:    60 | Cost: 0.1576559 \n",
      "Iter:    61 | Cost: 0.1594071 | Accuracy train/validation: 0.98/1.00 | Trace: 0.99795\n",
      "Iter:    62 | Cost: 0.1797639 \n",
      "Iter:    63 | Cost: 0.1662133 \n",
      "Iter:    64 | Cost: 0.1594125 \n",
      "Iter:    65 | Cost: 0.1550727 \n",
      "Iter:    66 | Cost: 0.1583024 \n",
      "Iter:    67 | Cost: 0.1541272 \n",
      "Iter:    68 | Cost: 0.1615788 \n",
      "Iter:    69 | Cost: 0.1718164 \n",
      "Iter:    70 | Cost: 0.1787271 \n",
      "Iter:    71 | Cost: 0.1502374 | Accuracy train/validation: 0.98/0.98 | Trace: 0.99794\n",
      "Iter:    72 | Cost: 0.1600497 \n",
      "Iter:    73 | Cost: 0.1499586 \n",
      "Iter:    74 | Cost: 0.1808701 \n",
      "Iter:    75 | Cost: 0.1686123 \n",
      "Iter:    76 | Cost: 0.1524592 \n",
      "Iter:    77 | Cost: 0.1529960 \n",
      "Iter:    78 | Cost: 0.1448786 \n",
      "Iter:    79 | Cost: 0.1544330 \n",
      "Iter:    80 | Cost: 0.1481011 \n",
      "Iter:    81 | Cost: 0.1419466 | Accuracy train/validation: 1.00/1.00 | Trace: 0.99794\n",
      "Iter:    82 | Cost: 0.1409223 \n",
      "Iter:    83 | Cost: 0.1460835 \n",
      "Iter:    84 | Cost: 0.1390858 \n",
      "Iter:    85 | Cost: 0.1521793 \n",
      "Iter:    86 | Cost: 0.1589032 \n",
      "Iter:    87 | Cost: 0.1486948 \n",
      "Iter:    88 | Cost: 0.1452714 \n",
      "Iter:    89 | Cost: 0.1471290 \n",
      "Iter:    90 | Cost: 0.1362827 \n",
      "Iter:    91 | Cost: 0.1334553 | Accuracy train/validation: 1.00/1.00 | Trace: 0.99794\n",
      "Iter:    92 | Cost: 0.1771410 \n",
      "Iter:    93 | Cost: 0.1344014 \n",
      "Iter:    94 | Cost: 0.1308413 \n",
      "Iter:    95 | Cost: 0.1390351 \n",
      "Iter:    96 | Cost: 0.1624741 \n",
      "Iter:    97 | Cost: 0.1283914 \n",
      "Iter:    98 | Cost: 0.1268267 \n",
      "Iter:    99 | Cost: 0.1248447 \n",
      "Iter:   100 | Cost: 0.1403370 \n",
      "Iter:   101 | Cost: 0.1229917 | Accuracy train/validation: 1.00/1.00 | Trace: 0.99794\n",
      "Iter:   102 | Cost: 0.1220215 \n",
      "Iter:   103 | Cost: 0.1213387 \n",
      "Iter:   104 | Cost: 0.1582319 \n",
      "Iter:   105 | Cost: 0.1190546 \n",
      "Iter:   106 | Cost: 0.1231257 \n",
      "Iter:   107 | Cost: 0.1122582 \n",
      "Iter:   108 | Cost: 0.1332751 \n",
      "Iter:   109 | Cost: 0.1643253 \n",
      "Iter:   110 | Cost: 0.1563366 \n",
      "Iter:   111 | Cost: 0.1300319 | Accuracy train/validation: 0.82/0.90 | Trace: 0.99794\n",
      "Iter:   112 | Cost: 0.1730392 \n",
      "Iter:   113 | Cost: 0.1856088 \n",
      "Iter:   114 | Cost: 0.1476485 \n",
      "Iter:   115 | Cost: 0.1147092 \n",
      "Iter:   116 | Cost: 0.1047011 \n",
      "Iter:   117 | Cost: 0.1054267 \n",
      "Iter:   118 | Cost: 0.1000321 \n",
      "Iter:   119 | Cost: 0.1959984 \n",
      "Iter:   120 | Cost: 0.1365771 \n",
      "Iter:   121 | Cost: 0.1161760 | Accuracy train/validation: 0.98/1.00 | Trace: 0.99791\n",
      "Iter:   122 | Cost: 0.0953872 \n",
      "Iter:   123 | Cost: 0.1022195 \n",
      "Iter:   124 | Cost: 0.0909608 \n",
      "Iter:   125 | Cost: 0.1333920 \n",
      "Iter:   126 | Cost: 0.0827015 \n",
      "Iter:   127 | Cost: 0.0822246 \n",
      "Iter:   128 | Cost: 0.1357472 \n",
      "Iter:   129 | Cost: 0.0708653 \n",
      "Iter:   130 | Cost: 0.0880996 \n",
      "Iter:   131 | Cost: 0.1052516 | Accuracy train/validation: 0.88/0.92 | Trace: 0.99792\n",
      "Iter:   132 | Cost: 0.0554445 \n",
      "Iter:   133 | Cost: 0.1893520 \n",
      "Iter:   134 | Cost: 0.1884149 \n",
      "Iter:   135 | Cost: 0.2710063 \n",
      "Iter:   136 | Cost: 0.1625046 \n",
      "Iter:   137 | Cost: 0.0938864 \n",
      "Iter:   138 | Cost: 0.0913045 \n",
      "Iter:   139 | Cost: 0.1183806 \n",
      "Iter:   140 | Cost: 0.1051240 \n",
      "Iter:   141 | Cost: 0.1162103 | Accuracy train/validation: 0.78/0.90 | Trace: 0.99794\n",
      "Iter:   142 | Cost: 0.1013618 \n",
      "Iter:   143 | Cost: 0.1391336 \n",
      "Iter:   144 | Cost: 0.0859980 \n",
      "Iter:   145 | Cost: 0.1556597 \n",
      "Iter:   146 | Cost: 0.1634801 \n",
      "Iter:   147 | Cost: 0.0830156 \n",
      "Iter:   148 | Cost: 0.0977366 \n",
      "Iter:   149 | Cost: 0.0913620 \n",
      "Iter:   150 | Cost: 0.0741110 \n"
     ]
    }
   ],
   "source": [
    "# create optimizer\n",
    "opt = AdagradOptimizer(stepsize=0.02)\n",
    "\n",
    "# train\n",
    "batch_size = 5\n",
    "var = var_init\n",
    "\n",
    "for it in range(150):\n",
    "\n",
    "    # select minibatch of training samples\n",
    "    batch_index = np.random.randint(0, num_train, (batch_size,))\n",
    "    X_train_batch = X_train[batch_index]\n",
    "    Y_train_batch = Y_train[batch_index]\n",
    "\n",
    "    var = opt.step(lambda v: cost(v, X_train_batch, Y_train_batch), var)\n",
    "\n",
    "    if it % 10 == 0:\n",
    "        # Print current cost, and compute accuracy on train and validation set\n",
    "        pred_train = [np.round(qclassifier(var, x=x_)) for x_ in X_train]\n",
    "        pred_val = [np.round(qclassifier(var, x=x_)) for x_ in X_val]\n",
    "        acc_train = np.mean(Y_train == pred_train)\n",
    "        acc_val = np.mean(Y_val == pred_val)\n",
    "        current_trace = trace(var, x=X_train[0])\n",
    "        print(\"Iter: {:5d} | Cost: {:0.7f} | Accuracy train/validation: {:0.2f}/{:0.2f} | Trace: {:0.5f}\"\n",
    "              .format(it + 1, cost(var, X_train, Y_train), acc_train, acc_val, current_trace))\n",
    "    else:\n",
    "        # Only print the current cost\n",
    "        print(\"Iter: {:5d} | Cost: {:0.7f} \".format(it + 1, cost(var, X_train, Y_train)))"
   ]
  },
  {
   "cell_type": "markdown",
   "metadata": {},
   "source": [
    "With the last predictions we can plot the classification of the model for the data. You will get better results for more complex datasets when using a higher squeezing amplitude, but at the price of making the simulation more expensive by increasing the truncation or \"cutoff_dim\" of the simulator.\n",
    "\n",
    "Tip: By rerunning the previous cell (possibly with a different number of iterations in `for it in range(150):`), you can train the model further, using the already optimized parameters stored in the variable `var`.\n",
    "\n",
    "*For the following cell you need to have imported matplotlib's pyplot above.*"
   ]
  },
  {
   "cell_type": "code",
   "execution_count": 14,
   "metadata": {},
   "outputs": [
    {
     "data": {
      "image/png": "[encoded data removed]",
      "text/plain": [
       "<Figure size 432x288 with 2 Axes>"
      ]
     },
     "metadata": {},
     "output_type": "display_data"
    }
   ],
   "source": [
    "# make data for plot\n",
    "xx, yy = np.meshgrid(np.linspace(-0.4, 0.5, 20), np.linspace(-0.4, 0.4, 20))\n",
    "X_grid = [np.array([x, y]) for x, y in zip(xx.flatten(), yy.flatten())]\n",
    "\n",
    "# start plot\n",
    "plt.figure()\n",
    "cm = plt.cm.RdBu\n",
    "\n",
    "# plot decision regions\n",
    "predictions_grid = [qclassifier(var, x=x) for x in X_grid]\n",
    "Z = np.reshape(predictions_grid, xx.shape)\n",
    "cnt = plt.contourf(xx, yy, Z, levels=np.arange(0., 1.1, 0.1), cmap=cm, alpha=.8)\n",
    "plt.colorbar(cnt, ticks=[0, 0.5, 1])\n",
    "\n",
    "# plot data\n",
    "plt.scatter(X_train[:, 0][Y_train==0], X_train[:, 1][Y_train==0], c='r', marker='^', edgecolors='k')\n",
    "plt.scatter(X_train[:, 0][Y_train==1], X_train[:, 1][Y_train==1], c='b', marker='^', edgecolors='k')\n",
    "plt.scatter(X_val[:, 0][Y_val==0], X_val[:, 1][Y_val==0], c='r', marker='o', edgecolors='k')\n",
    "plt.scatter(X_val[:, 0][Y_val==1], X_val[:, 1][Y_val==1], c='b', marker='o', edgecolors='k')\n",
    "\n",
    "plt.ylim(-0.4, 0.4)\n",
    "plt.xlim(-0.4, 0.4)\n",
    "plt.show()"
   ]
  },
  {
   "cell_type": "code",
   "execution_count": null,
   "metadata": {
    "collapsed": true
   },
   "outputs": [],
   "source": []
  }
 ],
 "metadata": {
  "kernelspec": {
   "display_name": "Python 3",
   "language": "python",
   "name": "python3"
  },
  "language_info": {
   "codemirror_mode": {
    "name": "ipython",
    "version": 3
   },
   "file_extension": ".py",
   "mimetype": "text/x-python",
   "name": "python",
   "nbconvert_exporter": "python",
   "pygments_lexer": "ipython3",
   "version": "3.6.1"
  }
 },
 "nbformat": 4,
 "nbformat_minor": 2
}
