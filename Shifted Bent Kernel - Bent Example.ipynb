{
 "cells": [
  {
   "cell_type": "code",
   "execution_count": 1,
   "metadata": {
    "collapsed": true
   },
   "outputs": [],
   "source": [
    "import pennylane as qml\n",
    "from pennylane import numpy as np\n",
    "from pennylane.optimize import NesterovMomentumOptimizer\n",
    "\n",
    "from scipy.stats import unitary_group\n",
    "import matplotlib.pyplot as plt\n",
    "\n",
    "import itertools\n",
    "from functools import reduce"
   ]
  },
  {
   "cell_type": "code",
   "execution_count": 2,
   "metadata": {
    "collapsed": true
   },
   "outputs": [],
   "source": [
    "N = 2\n",
    "dev = qml.device('default.qubit', wires=N)"
   ]
  },
  {
   "cell_type": "markdown",
   "metadata": {},
   "source": [
    "The class $M$ of Maiorana-McFarland bent functions consists of the functions $f(x,y) := x\\pi(y)^T + g(y)$, where $\\pi$ is an arbitrary permutation of $\\{0,1\\}^n$ and $g$ is an arbitrary Boolean function depending on $y$ only."
   ]
  },
  {
   "cell_type": "code",
   "execution_count": 3,
   "metadata": {
    "collapsed": true
   },
   "outputs": [],
   "source": [
    "from sklearn.datasets import load_breast_cancer\n",
    "from sklearn.utils.random import sample_without_replacement\n",
    "\n",
    "bc = load_breast_cancer()\n",
    "idx = sample_without_replacement(len(bc.data), 50, random_state=0)\n",
    "#print(idx)\n",
    "\n",
    "bc.data = bc.data[idx]\n",
    "bc.target = bc.target[idx]"
   ]
  },
  {
   "cell_type": "code",
   "execution_count": 4,
   "metadata": {},
   "outputs": [
    {
     "name": "stdout",
     "output_type": "stream",
     "text": [
      "explained variance:  [0.44160777 0.20815103]\n",
      "singular values:  [25.73735912 17.66993329]\n",
      "data length:  50\n",
      "[[1.8148717  1.86906699]\n",
      " [0.63345468 0.77141652]\n",
      " [0.54585328 0.55793419]\n",
      " [0.63598819 0.53061221]\n",
      " [0.40867085 0.77053876]\n",
      " [0.71916857 1.48849061]\n",
      " [0.93397328 1.58789403]\n",
      " [0.47366984 1.25660539]\n",
      " [0.28475436 2.02258991]\n",
      " [0.71445791 2.21019762]\n",
      " [1.80558896 1.89797199]\n",
      " [0.92597555 0.79381881]\n",
      " [0.34958733 1.58722939]\n",
      " [1.17983218 0.28031599]\n",
      " [1.63412529 1.55584296]\n",
      " [1.97471276 1.63068645]\n",
      " [1.71500893 3.14159265]\n",
      " [2.13071255 0.07285857]\n",
      " [2.50959354 1.02545792]\n",
      " [3.14159265 0.58677635]\n",
      " [1.96276424 2.54137783]\n",
      " [1.91046476 1.45819052]\n",
      " [0.95566285 1.44162852]\n",
      " [0.58380367 1.16300668]\n",
      " [2.16616787 0.64157071]\n",
      " [0.49570661 0.94053336]\n",
      " [0.18887813 0.9479017 ]\n",
      " [2.27827257 2.80753321]\n",
      " [0.54030627 0.84114102]\n",
      " [2.44591635 0.94832253]\n",
      " [0.35418617 0.81333297]\n",
      " [1.90711044 0.07142547]\n",
      " [1.20995467 1.3117655 ]\n",
      " [1.62856642 0.93969521]\n",
      " [0.08378268 1.47288717]\n",
      " [1.69226118 1.74760531]\n",
      " [0.72629396 0.82443544]\n",
      " [1.84258931 0.1535665 ]\n",
      " [0.77739021 0.71793745]\n",
      " [1.85353871 1.29455219]\n",
      " [1.09106676 0.65797191]\n",
      " [0.63194713 1.68235835]\n",
      " [1.12109703 0.48601184]\n",
      " [0.28960989 1.30390768]\n",
      " [1.66250761 1.95209787]\n",
      " [3.00189567 0.        ]\n",
      " [0.         1.59182832]\n",
      " [0.74642778 0.82298236]\n",
      " [0.48439893 1.31987616]\n",
      " [2.22976365 2.25541306]]\n"
     ]
    }
   ],
   "source": [
    "from sklearn.model_selection import train_test_split\n",
    "from sklearn import preprocessing\n",
    "from sklearn.decomposition import PCA\n",
    "\n",
    "ss = preprocessing.StandardScaler()\n",
    "bc_stand = ss.fit(bc.data).transform(bc.data)\n",
    "\n",
    "pca = PCA(n_components=N)\n",
    "bc_pca = pca.fit(bc_stand).transform(bc_stand)\n",
    "\n",
    "print(\"explained variance: \", pca.explained_variance_ratio_)  \n",
    "print(\"singular values: \", pca.singular_values_) \n",
    "\n",
    "scaler = preprocessing.MinMaxScaler(feature_range=(0, np.pi))\n",
    "bc_norm = scaler.fit(bc_pca).transform(bc_pca)\n",
    "\n",
    "bc_proc = bc_norm\n",
    "num_data = len(bc.target)\n",
    "    \n",
    "print(\"data length: \", num_data)\n",
    "print(bc_proc)"
   ]
  },
  {
   "cell_type": "markdown",
   "metadata": {},
   "source": [
    "Now we add implicit features corresponding to the two-point all-pairs parity\n",
    "\n",
    "$$\n",
    "\\phi_{i, j}(x) = (\\pi - x_i)(\\pi - x_j)\n",
    "$$"
   ]
  },
  {
   "cell_type": "code",
   "execution_count": 5,
   "metadata": {},
   "outputs": [
    {
     "name": "stdout",
     "output_type": "stream",
     "text": [
      "(50, 2) (50, 1) (50, 3)\n",
      "train data:  [[1.20995467 1.3117655  3.53456364]\n",
      " [1.85353871 1.29455219 2.37908775]\n",
      " [1.91046476 1.45819052 2.07248332]\n",
      " [0.72629396 0.82443544 5.59662677]\n",
      " [3.14159265 0.58677635 0.        ]\n",
      " [1.12109703 0.48601184 5.36558941]\n",
      " [2.22976365 2.25541306 0.80804426]\n",
      " [0.18887813 0.9479017  6.47734314]\n",
      " [0.95566285 1.44162852 3.71600226]\n",
      " [1.17983218 0.28031599 5.61313946]\n",
      " [0.63194713 1.68235835 3.66216084]\n",
      " [2.13071255 0.07285857 3.10212223]\n",
      " [3.00189567 0.         0.43887101]\n",
      " [2.16616787 0.64157071 2.43858337]\n",
      " [0.58380367 1.16300668 5.0608054 ]\n",
      " [0.40867085 0.77053876 6.47990489]\n",
      " [1.62856642 0.93969521 3.3315286 ]\n",
      " [1.63412529 1.55584296 2.39046591]\n",
      " [0.35418617 0.81333297 6.48980614]\n",
      " [1.80558896 1.89797199 1.6614818 ]\n",
      " [0.54030627 0.84114102 5.98413351]\n",
      " [1.66250761 1.95209787 1.75936394]\n",
      " [0.08378268 1.47288717 5.10258426]\n",
      " [2.50959354 1.02545792 1.33739527]\n",
      " [1.96276424 2.54137783 0.70755028]\n",
      " [0.49570661 0.94053336 5.82375206]\n",
      " [0.93397328 1.58789403 3.42997519]\n",
      " [0.47366984 1.25660539 5.02900052]\n",
      " [0.74642778 0.82298236 5.55345394]\n",
      " [0.63345468 0.77141652 5.94472876]\n",
      " [1.71500893 3.14159265 0.        ]\n",
      " [1.8148717  1.86906699 1.68828647]\n",
      " [1.97471276 1.63068645 1.76304606]\n",
      " [0.71916857 1.48849061 4.00451421]\n",
      " [0.92597555 0.79381881 5.20176787]\n",
      " [0.71445791 2.21019762 2.26062125]\n",
      " [0.28475436 2.02258991 3.19680989]\n",
      " [0.34958733 1.58722939 4.33979051]\n",
      " [0.28960989 1.30390768 5.24104587]\n",
      " [1.84258931 0.1535665  3.88145598]]\n",
      "test data:  [[2.27827257 2.80753321 0.28840023]\n",
      " [1.69226118 1.74760531 2.02034974]\n",
      " [1.09106676 0.65797191 5.09272864]\n",
      " [0.77739021 0.71793745 5.73001157]\n",
      " [0.54585328 0.55793419 6.70650401]\n",
      " [0.63598819 0.53061221 6.54208424]\n",
      " [0.48439893 1.31987616 4.84065364]\n",
      " [2.44591635 0.94832253 1.52580605]\n",
      " [0.         1.59182832 4.86872825]\n",
      " [1.90711044 0.07142547 3.79006678]]\n"
     ]
    }
   ],
   "source": [
    "from scipy.special import comb\n",
    "\n",
    "new_features = np.zeros((num_data, int(comb(N, 2))))\n",
    "\n",
    "for i in range(num_data):\n",
    "    for (j, pair) in enumerate(itertools.combinations(range(N), r=2)):\n",
    "        new_features[i, j] = (np.pi - bc_proc[i, pair[0]]) * (np.pi - bc_proc[i, pair[1]])\n",
    "\n",
    "all_data = np.append(bc_proc, new_features, 1)\n",
    "print(np.shape(bc_proc), np.shape(new_features), np.shape(all_data))\n",
    "    \n",
    "train_data, test_data, train_label, test_label = train_test_split(\n",
    "    all_data, bc.target, test_size = 0.2, random_state=1)\n",
    "\n",
    "num_train = int(0.8 * num_data)\n",
    "\n",
    "print(\"train data: \", train_data)\n",
    "print(\"test data: \", test_data)"
   ]
  },
  {
   "cell_type": "code",
   "execution_count": 6,
   "metadata": {},
   "outputs": [
    {
     "data": {
      "image/png": "[encoded data removed]",
      "text/plain": [
       "<matplotlib.figure.Figure at 0x113838208>"
      ]
     },
     "metadata": {},
     "output_type": "display_data"
    }
   ],
   "source": [
    "from matplotlib.colors import ListedColormap\n",
    "cm_bright = ListedColormap(['#FF0000', '#0000FF'])\n",
    "\n",
    "plt.figure()\n",
    "plt.scatter(bc_proc[:,0], bc_proc[:,1], c=bc.target,cmap=cm_bright, edgecolors='k')\n",
    "plt.show()"
   ]
  },
  {
   "cell_type": "code",
   "execution_count": null,
   "metadata": {
    "collapsed": true
   },
   "outputs": [],
   "source": []
  },
  {
   "cell_type": "code",
   "execution_count": 7,
   "metadata": {
    "collapsed": true
   },
   "outputs": [],
   "source": [
    "import sys\n",
    "import numpy\n",
    "numpy.set_printoptions(threshold=sys.maxsize)"
   ]
  },
  {
   "cell_type": "code",
   "execution_count": 8,
   "metadata": {},
   "outputs": [
    {
     "data": {
      "image/png": "[encoded data removed]",
      "text/plain": [
       "<matplotlib.figure.Figure at 0x114a052b0>"
      ]
     },
     "metadata": {},
     "output_type": "display_data"
    }
   ],
   "source": [
    "from sklearn.svm import LinearSVC\n",
    "\n",
    "clf = LinearSVC(random_state=0, tol=1e-5)\n",
    "clf.fit(bc_proc.data, bc.target)\n",
    "\n",
    "score = clf.score(bc_proc.data, bc.target)\n",
    "\n",
    "x_min = y_min = 0\n",
    "x_max = y_max = np.pi\n",
    "h = .02  # step size in the mesh\n",
    "\n",
    "cm = plt.cm.RdBu\n",
    "\n",
    "xx, yy = np.meshgrid(np.arange(x_min, x_max, h),\n",
    "                         np.arange(y_min, y_max, h))\n",
    "\n",
    "grid = np.c_[xx.ravel(), yy.ravel()]\n",
    "Z = clf.decision_function(grid) \n",
    "Z = Z.reshape(xx.shape)\n",
    "\n",
    "#for i in range(int(x_max / h)):\n",
    "#    if Z[0, i] > 0:\n",
    "#        print(Z[0, i], grid[i])\n",
    "\n",
    "plt.figure()\n",
    "\n",
    "plt.scatter(bc_proc[:,0], bc_proc[:,1], c=bc.target, cmap=cm_bright, edgecolors='k')\n",
    "plt.contourf(xx, yy, Z, vmin=-1., vmax=1., cmap=cm, alpha=.5)\n",
    "\n",
    "plt.xlim(xx.min(), xx.max())\n",
    "plt.ylim(yy.min(), yy.max())\n",
    "#plt.xticks(())\n",
    "#plt.yticks(())\n",
    "\n",
    "plt.title(\"Classical Linear SVM\")\n",
    "plt.text(xx.max() - .3, yy.min() + .3, ('%.2f' % score).lstrip('0'),\n",
    "                size=15, horizontalalignment='right')\n",
    "\n",
    "plt.show()"
   ]
  },
  {
   "cell_type": "code",
   "execution_count": null,
   "metadata": {
    "collapsed": true
   },
   "outputs": [],
   "source": []
  },
  {
   "cell_type": "code",
   "execution_count": 9,
   "metadata": {
    "collapsed": true
   },
   "outputs": [],
   "source": [
    "def U_phi(x):\n",
    "    # x_2 = (pi - x_0)(pi - x_1)\n",
    "    \n",
    "    for i in range(N):\n",
    "        qml.RZ( x[i], wires=0)\n",
    "    \n",
    "    \n",
    "    for (j, pair) in enumerate(itertools.combinations(range(N), r=2)):\n",
    "        qml.CNOT(wires=[pair[0], pair[1]])\n",
    "        qml.RZ(x[N + j], pair[1])\n",
    "        qml.CNOT(wires=[pair[0], pair[1]])"
   ]
  },
  {
   "cell_type": "code",
   "execution_count": 10,
   "metadata": {
    "collapsed": true
   },
   "outputs": [],
   "source": [
    "def featuremap(x):\n",
    "    layers = 2\n",
    "    for i in range(layers):\n",
    "        for j in range(N):\n",
    "            qml.Hadamard(wires=j)\n",
    "        U_phi(x)"
   ]
  },
  {
   "cell_type": "code",
   "execution_count": 11,
   "metadata": {
    "collapsed": true
   },
   "outputs": [],
   "source": [
    "def layer(W): # 6 weights are specified at each layer\n",
    "    \n",
    "    for i in range(N): \n",
    "        if i == (N-1):\n",
    "            qml.Rot(W[0, 0], W[0, 1], W[0, 2], wires=0)\n",
    "            qml.Rot(W[N-1, 0], W[N-1, 1], W[N-1, 2], wires=N-1)\n",
    "            \n",
    "            qml.CNOT(wires=[0, N-1])\n",
    "        else: \n",
    "            # euler angles\n",
    "            qml.Rot(W[i, 0], W[i, 1], W[i, 2], wires=i)\n",
    "            qml.Rot(W[i+1, 0], W[i+1, 1], W[i+1, 2], wires=i + 1)\n",
    "\n",
    "            qml.CNOT(wires=[i, i+1])"
   ]
  },
  {
   "cell_type": "code",
   "execution_count": 12,
   "metadata": {
    "collapsed": true
   },
   "outputs": [],
   "source": [
    "@qml.qnode(dev)\n",
    "def circuit(weights, x, n=0):\n",
    "\n",
    "    featuremap(x)\n",
    "\n",
    "    for W in weights:\n",
    "        layer(W)\n",
    "\n",
    "    return qml.expval.PauliZ(wires=n)"
   ]
  },
  {
   "cell_type": "code",
   "execution_count": 13,
   "metadata": {
    "collapsed": true
   },
   "outputs": [],
   "source": [
    "def variational_classifier(var, x): # x is a keyword argument -> fixed (not trained)\n",
    "    weights = var[0]\n",
    "    bias = var[1]\n",
    "    \n",
    "    exp_Z = circuit(weights, x, n=0)\n",
    "    for i in range(1, N):\n",
    "        #print(\"computing expectation at index {0}\".format(i))\n",
    "        e = circuit(weights,x,n=i)\n",
    "        exp_Z *= e\n",
    "\n",
    "    return exp_Z + bias"
   ]
  },
  {
   "cell_type": "code",
   "execution_count": 14,
   "metadata": {
    "collapsed": true
   },
   "outputs": [],
   "source": [
    "def square_loss(labels, predictions):\n",
    "\n",
    "    loss = 0\n",
    "    for l, p in zip(labels, predictions):\n",
    "        loss = loss + (l - p) ** 2\n",
    "    loss = loss / len(labels)\n",
    "\n",
    "    return loss"
   ]
  },
  {
   "cell_type": "code",
   "execution_count": 15,
   "metadata": {
    "collapsed": true
   },
   "outputs": [],
   "source": [
    "def accuracy(labels, predictions):\n",
    "    #print(labels, predictions)\n",
    "    loss = 0\n",
    "    for l, p in zip(labels, predictions):\n",
    "        if abs(l - p) < 1e-5:\n",
    "            loss = loss + 1\n",
    "    loss = loss / len(labels)\n",
    "\n",
    "    return loss"
   ]
  },
  {
   "cell_type": "code",
   "execution_count": 16,
   "metadata": {
    "collapsed": true
   },
   "outputs": [],
   "source": [
    "def cost(var, X, Y):\n",
    "\n",
    "    predictions = [variational_classifier(var, x) for x in X]\n",
    "    #if (len(Y) == num_data):\n",
    "    #    print(\"[(pred, label), ...]: \", list(zip(predictions, Y)))\n",
    "    \n",
    "    sq_l = square_loss(Y, predictions) \n",
    "    \n",
    "    #print(\"square loss: \", sq_l)\n",
    "    return sq_l"
   ]
  },
  {
   "cell_type": "code",
   "execution_count": 17,
   "metadata": {
    "collapsed": true
   },
   "outputs": [],
   "source": [
    "num_qubits = N\n",
    "num_layers = 4\n",
    "var_init = (0.01 * np.random.randn(num_layers, num_qubits, 3), 0.0)"
   ]
  },
  {
   "cell_type": "code",
   "execution_count": 18,
   "metadata": {
    "collapsed": true
   },
   "outputs": [],
   "source": [
    "num_iterations = 10\n",
    "\n",
    "def train_and_test(X, Y, X_train, Y_train, X_test, Y_test):\n",
    "    opt = NesterovMomentumOptimizer(0.01)\n",
    "    batch_size = 5\n",
    "\n",
    "    # train the variational classifier\n",
    "    var = var_init\n",
    "    \n",
    "    test_accuracies = []\n",
    "    train_accuracies = []\n",
    "    costs = []\n",
    "    for it in range(num_iterations):\n",
    "\n",
    "        # Update the weights by one optimizer step\n",
    "        batch_index = np.random.randint(0, num_train, (batch_size, ))\n",
    "        X_train_batch = X_train[batch_index]\n",
    "        Y_train_batch = Y_train[batch_index]\n",
    "        var = opt.step(lambda v: cost(v, X_train_batch, Y_train_batch), var)\n",
    "\n",
    "        # Compute predictions on train and validation set\n",
    "        predictions_train = [np.sign(variational_classifier(var, f)) for f in X_train]\n",
    "        predictions_test = [np.sign(variational_classifier(var, f)) for f in X_test]\n",
    "\n",
    "        # Compute accuracy on train and validation set\n",
    "        acc_train = accuracy(Y_train, predictions_train)\n",
    "        acc_test = accuracy(Y_test, predictions_test)\n",
    "        \n",
    "        # Compute cost on all samples\n",
    "        c = cost(var, X, Y)\n",
    "        \n",
    "        costs.append(c)\n",
    "        test_accuracies.append(acc_test)\n",
    "        train_accuracies.append(acc_train)\n",
    "        \n",
    "        print(\"Iter: {:5d} | Cost: {:0.7f} | Acc train: {:0.7f} | Acc validation: {:0.7f} \"\n",
    "              \"\".format(it+1, c, acc_train, acc_test))\n",
    "        \n",
    "    return train_accuracies, test_accuracies, costs, var"
   ]
  },
  {
   "cell_type": "code",
   "execution_count": 19,
   "metadata": {},
   "outputs": [
    {
     "name": "stdout",
     "output_type": "stream",
     "text": [
      "Iter:     1 | Cost: 0.8028539 | Acc train: 0.3250000 | Acc validation: 0.5000000 \n",
      "Iter:     2 | Cost: 0.7539144 | Acc train: 0.4250000 | Acc validation: 0.5000000 \n",
      "Iter:     3 | Cost: 0.6873793 | Acc train: 0.4500000 | Acc validation: 0.5000000 \n",
      "Iter:     4 | Cost: 0.6087809 | Acc train: 0.4750000 | Acc validation: 0.5000000 \n",
      "Iter:     5 | Cost: 0.5313654 | Acc train: 0.4750000 | Acc validation: 0.5000000 \n",
      "Iter:     6 | Cost: 0.4586933 | Acc train: 0.4750000 | Acc validation: 0.5000000 \n",
      "Iter:     7 | Cost: 0.3908726 | Acc train: 0.5250000 | Acc validation: 0.5000000 \n",
      "Iter:     8 | Cost: 0.3346818 | Acc train: 0.5500000 | Acc validation: 0.5000000 \n",
      "Iter:     9 | Cost: 0.2888206 | Acc train: 0.6250000 | Acc validation: 0.5000000 \n",
      "Iter:    10 | Cost: 0.2535590 | Acc train: 0.6500000 | Acc validation: 0.5000000 \n",
      "Var:  [array([[[-2.60128191e-02,  5.82996876e-02, -1.66935050e-02],\n",
      "        [-3.05858914e-02, -4.61731980e-02, -2.32195456e-02]],\n",
      "\n",
      "       [[-2.78471690e-02,  5.21892190e-02, -9.49244936e-03],\n",
      "        [ 2.28797263e-03, -1.21093959e-02,  1.33280219e-02]],\n",
      "\n",
      "       [[-7.07183975e-03,  6.84818159e-02, -5.08007729e-03],\n",
      "        [ 1.14892200e-05, -1.48492691e-02,  6.03858973e-03]],\n",
      "\n",
      "       [[ 5.57070266e-03,  7.32383635e-02, -2.51479363e-03],\n",
      "        [-2.05986730e-02, -1.86454373e-03,  5.90407663e-03]]]), 0.5918065101413382]\n",
      "[[0.5, 0.5, 0.5, 0.5, 0.5, 0.5, 0.5, 0.5, 0.5, 0.5]]\n",
      "[[0.325, 0.425, 0.45, 0.475, 0.475, 0.475, 0.525, 0.55, 0.625, 0.65]]\n",
      "[[0.8028538529181798, 0.7539143899229326, 0.6873792598983637, 0.6087808573664607, 0.5313654114795594, 0.45869332386906486, 0.3908726249182919, 0.33468180284321747, 0.288820586793218, 0.25355899711538293]]\n"
     ]
    }
   ],
   "source": [
    "#thresholds = [0.0, 0.1, 0.2, 0.3]\n",
    "thresholds = [0.2]\n",
    "thresh_test_accuracies = []\n",
    "thresh_train_accuracies = []\n",
    "thresh_costs = []\n",
    "    \n",
    "for thresh in thresholds:\n",
    "        trn_ac, tst_ac, costs, var = train_and_test(\n",
    "            all_data, bc.target, train_data, train_label, test_data, test_label)\n",
    "        thresh_train_accuracies.append(trn_ac)\n",
    "        thresh_test_accuracies.append(tst_ac)\n",
    "        thresh_costs.append(costs)\n",
    "        print(\"Var: \", var)\n",
    "        \n",
    "print(thresh_test_accuracies)\n",
    "print(thresh_train_accuracies)\n",
    "print(thresh_costs)"
   ]
  },
  {
   "cell_type": "code",
   "execution_count": 21,
   "metadata": {
    "collapsed": true
   },
   "outputs": [],
   "source": [
    "import time, sys\n",
    "from IPython.display import clear_output\n",
    "\n",
    "def update_progress(progress):\n",
    "    bar_length = 20\n",
    "    if isinstance(progress, int):\n",
    "        progress = float(progress)\n",
    "    if not isinstance(progress, float):\n",
    "        progress = 0\n",
    "    if progress < 0:\n",
    "        progress = 0\n",
    "    if progress >= 1:\n",
    "        progress = 1\n",
    "        \n",
    "    block = int(round(bar_length * progress))\n",
    "    clear_output(wait = True)\n",
    "    text = \"Progress: [{0}] {1:.1f}%\".format( \"#\" * block + \"-\" * (bar_length - block), progress * 100)\n",
    "    print(text)"
   ]
  },
  {
   "cell_type": "code",
   "execution_count": 23,
   "metadata": {},
   "outputs": [
    {
     "name": "stdout",
     "output_type": "stream",
     "text": [
      "Progress: [####################] 100.0%\n"
     ]
    }
   ],
   "source": [
    "score = thresh_train_accuracies[0][-1]\n",
    "\n",
    "x_min = y_min = 0\n",
    "x_max = y_max = np.pi\n",
    "h = 0.1  # step size in the mesh\n",
    "\n",
    "cm = plt.cm.RdBu\n",
    "\n",
    "xx, yy = np.meshgrid(np.arange(x_min, x_max, h),\n",
    "                         np.arange(y_min, y_max, h))\n",
    "\n",
    "grid = np.c_[xx.ravel(), yy.ravel()]\n",
    "Z = np.array([])\n",
    "\n",
    "for i, f in enumerate(grid):    \n",
    "    Z = np.append(Z, np.sign(variational_classifier(var, [f, (np.pi - f[0])*(np.pi - f[1])])))\n",
    "    update_progress(i / len(grid))\n",
    " \n",
    "update_progress(1)\n",
    "Z = Z.reshape(xx.shape)"
   ]
  },
  {
   "cell_type": "code",
   "execution_count": 25,
   "metadata": {},
   "outputs": [
    {
     "data": {
      "text/plain": [
       "<matplotlib.figure.Figure at 0x1132628d0>"
      ]
     },
     "metadata": {},
     "output_type": "display_data"
    },
    {
     "data": {
      "image/png": "[encoded data removed]",
      "text/plain": [
       "<matplotlib.figure.Figure at 0x113933588>"
      ]
     },
     "metadata": {},
     "output_type": "display_data"
    }
   ],
   "source": [
    "plt.figure()\n",
    "\n",
    "plt.scatter(bc_proc[:,0], bc_proc[:,1], c=bc.target, cmap=cm_bright, edgecolors='k')\n",
    "plt.contourf(xx, yy, Z, vmin=-1., vmax=1., cmap=cm, alpha=.5)\n",
    "\n",
    "plt.xlim(xx.min(), xx.max())\n",
    "plt.ylim(yy.min(), yy.max())\n",
    "#plt.xticks(())\n",
    "#plt.yticks(())\n",
    "\n",
    "plt.title(\"Quantum SVM\")\n",
    "\n",
    "plt.text(xx.max() - .3, yy.min() + .3, ('%.2f' % score).lstrip('0'),\n",
    "                size=15, horizontalalignment='right')\n",
    "\n",
    "plt.show()"
   ]
  },
  {
   "cell_type": "code",
   "execution_count": null,
   "metadata": {
    "collapsed": true
   },
   "outputs": [],
   "source": []
  }
 ],
 "metadata": {
  "kernelspec": {
   "display_name": "Python 3",
   "language": "python",
   "name": "python3"
  },
  "language_info": {
   "codemirror_mode": {
    "name": "ipython",
    "version": 3
   },
   "file_extension": ".py",
   "mimetype": "text/x-python",
   "name": "python",
   "nbconvert_exporter": "python",
   "pygments_lexer": "ipython3",
   "version": "3.6.1"
  }
 },
 "nbformat": 4,
 "nbformat_minor": 2
}
