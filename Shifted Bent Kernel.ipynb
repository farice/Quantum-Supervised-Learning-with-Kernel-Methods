{
 "cells": [
  {
   "cell_type": "code",
   "execution_count": 23,
   "metadata": {
    "collapsed": true
   },
   "outputs": [],
   "source": [
    "import pennylane as qml\n",
    "from pennylane import numpy as np\n",
    "from pennylane.optimize import NesterovMomentumOptimizer\n",
    "\n",
    "from scipy.stats import unitary_group"
   ]
  },
  {
   "cell_type": "code",
   "execution_count": 2,
   "metadata": {
    "collapsed": true
   },
   "outputs": [],
   "source": [
    "dev = qml.device('default.qubit', wires=2)"
   ]
  },
  {
   "cell_type": "code",
   "execution_count": 635,
   "metadata": {},
   "outputs": [],
   "source": [
    "def U_phi(x):\n",
    "    #print(x, np.shape(x))\n",
    "    # x3 := (pi - x1)(pi - x2)\n",
    "    x_0, x_1, x_2 = x[0], x[1], x[2]\n",
    "    #print(x_0, x_1, x_2)\n",
    "        \n",
    "    qml.RZ( x_0 , wires=0)\n",
    "    qml.RZ( x_1 , wires=1)\n",
    "    \n",
    "    qml.CNOT(wires=[0,1])\n",
    "    qml.RZ(x_2,wires=1)\n",
    "    qml.CNOT(wires=[0,1])"
   ]
  },
  {
   "cell_type": "code",
   "execution_count": 636,
   "metadata": {
    "collapsed": true
   },
   "outputs": [],
   "source": [
    "def layer(W): # 6 weights are specified at each layer\n",
    "    \n",
    "    # euler angles\n",
    "    qml.Rot(W[0, 0], W[0, 1], W[0, 2], wires=0)\n",
    "    qml.Rot(W[1, 0], W[1, 1], W[1, 2], wires=1)\n",
    "\n",
    "    qml.CNOT(wires=[0, 1])"
   ]
  },
  {
   "cell_type": "code",
   "execution_count": 637,
   "metadata": {
    "collapsed": true
   },
   "outputs": [],
   "source": [
    "def featuremap(x):\n",
    "    for i in range(2):\n",
    "        qml.Hadamard(wires=0)\n",
    "        qml.Hadamard(wires=1)\n",
    "        U_phi(x)"
   ]
  },
  {
   "cell_type": "code",
   "execution_count": 638,
   "metadata": {
    "collapsed": true
   },
   "outputs": [],
   "source": [
    "@qml.qnode(dev)\n",
    "def circuit1(weights, x):\n",
    "\n",
    "    featuremap(x)\n",
    "\n",
    "    for W in weights:\n",
    "        layer(W)\n",
    "\n",
    "    return qml.expval.PauliZ(wires=0)\n",
    "\n",
    "@qml.qnode(dev)\n",
    "def circuit2(weights, x):\n",
    "\n",
    "    featuremap(x)\n",
    "\n",
    "    for W in weights:\n",
    "        layer(W)\n",
    "\n",
    "    return qml.expval.PauliZ(wires=1)"
   ]
  },
  {
   "cell_type": "code",
   "execution_count": 639,
   "metadata": {
    "collapsed": true
   },
   "outputs": [],
   "source": [
    "def variational_classifier(var, x): # x is a keyword argument -> fixed (not trained)\n",
    "    weights = var[0]\n",
    "    bias = var[1]\n",
    "\n",
    "    return circuit1(weights, x) * circuit2(weights, x) + bias"
   ]
  },
  {
   "cell_type": "code",
   "execution_count": 640,
   "metadata": {
    "collapsed": true
   },
   "outputs": [],
   "source": [
    "def square_loss(labels, predictions):\n",
    "\n",
    "    loss = 0\n",
    "    for l, p in zip(labels, predictions):\n",
    "        loss = loss + (l - p) ** 2\n",
    "    loss = loss / len(labels)\n",
    "\n",
    "    return loss"
   ]
  },
  {
   "cell_type": "code",
   "execution_count": 641,
   "metadata": {
    "collapsed": true
   },
   "outputs": [],
   "source": [
    "def accuracy(labels, predictions):\n",
    "    \n",
    "    loss = 0\n",
    "    for l, p in zip(labels, predictions):\n",
    "        if abs(l - p) < 1e-5:\n",
    "            loss = loss + 1\n",
    "    loss = loss / len(labels)\n",
    "\n",
    "    return loss"
   ]
  },
  {
   "cell_type": "code",
   "execution_count": 642,
   "metadata": {
    "collapsed": true
   },
   "outputs": [],
   "source": [
    "def cost(var, X, Y):\n",
    "\n",
    "    predictions = [variational_classifier(var, x) for x in X]\n",
    "    return square_loss(Y, predictions) "
   ]
  },
  {
   "cell_type": "code",
   "execution_count": 562,
   "metadata": {},
   "outputs": [
    {
     "name": "stdout",
     "output_type": "stream",
     "text": [
      "random unitary:  [[-0.15514148-0.09121604j -0.59385956-0.12811468j -0.244873  +0.64863746j\n",
      "  -0.21446256+0.26803109j]\n",
      " [-0.17124079+0.43648642j -0.09940909-0.04996002j -0.39260273-0.26219456j\n",
      "   0.53467426+0.50893867j]\n",
      " [-0.16637596+0.25524889j  0.63944936+0.36521774j -0.35080085+0.37417065j\n",
      "  -0.29605956+0.11904363j]\n",
      " [-0.75727666+0.28542258j  0.0093654 -0.27599292j  0.15138977+0.10217627j\n",
      "   0.1112498 -0.47230375j]]\n"
     ]
    }
   ],
   "source": [
    "random_U = unitary_group.rvs(4)\n",
    "\n",
    "print(\"random unitary: \", random_U)"
   ]
  },
  {
   "cell_type": "code",
   "execution_count": 643,
   "metadata": {
    "collapsed": true
   },
   "outputs": [],
   "source": [
    "@qml.qnode(dev)\n",
    "def data_label_1(x):\n",
    "    #print(u)\n",
    "    #print(\"label the following:\", x)\n",
    "    featuremap(x)\n",
    "    qml.QubitUnitary(random_U, wires=[0,1])\n",
    "    \n",
    "    return qml.expval.PauliZ(wires=0)\n",
    "\n",
    "@qml.qnode(dev)\n",
    "def data_label_2(x):\n",
    "    #print(\"label the following:\", x)\n",
    "    featuremap(x)\n",
    "    qml.QubitUnitary(random_U, wires=[0,1])\n",
    "    \n",
    "    return qml.expval.PauliZ(wires=1)"
   ]
  },
  {
   "cell_type": "code",
   "execution_count": 644,
   "metadata": {},
   "outputs": [
    {
     "name": "stdout",
     "output_type": "stream",
     "text": [
      "new max separation:  -0.02747197821830146\n",
      "new max separation:  -0.019206078962722577\n",
      "new max separation:  0.0861293931427618\n",
      "new max separation:  0.08817139391118359\n",
      "new max separation:  -0.18226192107016162\n",
      "new max separation:  -0.008446614417286431\n",
      "new max separation:  -0.12312895540365273\n",
      "new max separation:  0.22561678889515877\n",
      "new min separation:  -0.03253532399106718\n",
      "new min separation:  -0.16488819080860687\n",
      "new min separation:  -0.16548098305985282\n",
      "new max separation:  0.3956445577428955\n",
      "+1\n",
      "new min separation:  -0.312615221027314\n",
      "-1\n",
      "new max separation:  -0.43039659898492755\n",
      "-1\n",
      "new max separation:  0.7980422123333192\n",
      "+1\n",
      "+1\n",
      "+1\n",
      "+1\n",
      "+1\n",
      "+1\n",
      "+1\n",
      "+1\n",
      "+1\n",
      "+1\n",
      "+1\n",
      "new min separation:  -0.38875386535672096\n",
      "-1\n",
      "+1\n",
      "+1\n",
      "+1\n",
      "+1\n",
      "+1\n",
      "+1\n",
      "+1\n",
      "+1\n",
      "new min separation:  -0.5161706397693812\n",
      "-1\n",
      "+1\n",
      "+1\n",
      "-1\n",
      "+1\n",
      "-1\n",
      "+1\n",
      "+1\n",
      "+1\n",
      "+1\n",
      "+1\n",
      "+1\n",
      "+1\n",
      "+1\n",
      "+1\n",
      "+1\n",
      "+1\n"
     ]
    }
   ],
   "source": [
    "thresh = 0.3\n",
    "\n",
    "X = np.array([])\n",
    "Y = np.array([])\n",
    "ctr = 0 # num valid data pts\n",
    "maxval = 0.0\n",
    "minval = 0.0\n",
    "\n",
    "np.random.seed(0)\n",
    "\n",
    "while ctr < 40:\n",
    "    x = np.random.rand(2) * 2 * np.pi\n",
    "    x = np.append(x, (np.pi - x[0]) * (np.pi - x[1]))\n",
    "    y_1 = data_label_1(x)\n",
    "    y_2 = data_label_2(x)\n",
    "    #print(y_1, y_2, y_1 * y_2)\n",
    "    if (np.abs(y_1 * y_2) > maxval):\n",
    "        maxval = y_1 * y_2\n",
    "        print(\"new max separation: \", maxval)\n",
    "    elif (y_1 * y_2 < minval):\n",
    "        minval = y_1 * y_2\n",
    "        print(\"new min separation: \", minval)\n",
    "        \n",
    "    if y_1 * y_2 > thresh:\n",
    "        Y = np.append(Y, +1)\n",
    "        X = np.append(X, x)\n",
    "        ctr += 1\n",
    "        print(\"+1\")\n",
    "    elif y_1 * y_2 < -1 * thresh:\n",
    "        Y = np.append(Y, -1)\n",
    "        X = np.append(X, x)\n",
    "        ctr += 1\n",
    "        print(\"-1\")"
   ]
  },
  {
   "cell_type": "code",
   "execution_count": 645,
   "metadata": {},
   "outputs": [
    {
     "name": "stdout",
     "output_type": "stream",
     "text": [
      "[[ 5.92974406  4.28400329  3.18521381]\n",
      " [ 6.21013598  0.64116646 -7.67266612]\n",
      " [ 6.13527576  2.94462234 -0.58966669]\n",
      " [ 6.13717092  3.80035648  1.97337861]\n",
      " [ 3.28766448  0.59024564 -0.37267992]\n",
      " [ 3.68516945  0.12633944 -1.6390217 ]\n",
      " [ 5.54010667  4.35130431  2.90151037]\n",
      " [ 6.00725065  4.04630976  2.5926098 ]\n",
      " [ 3.27376955  0.34141565 -0.3701187 ]\n",
      " [ 4.98694975  1.40696031 -3.2010161 ]\n",
      " [ 5.86983967  3.85766187  1.95361371]\n",
      " [ 2.50209673  1.31848716  1.16586854]\n",
      " [ 3.25595111  0.16124361 -0.34082812]\n",
      " [ 3.2507888   0.82980839 -0.25243794]\n",
      " [ 6.169016    3.00568928 -0.41143703]\n",
      " [ 5.69605619  4.86348283  4.39850567]\n",
      " [ 2.55877174  1.45917015  0.98055101]\n",
      " [ 5.40700249  4.56815383  3.23174572]\n",
      " [ 2.33013686  1.23812856  1.54457697]\n",
      " [ 5.68027845  4.33555507  3.03109542]\n",
      " [ 5.98080373  3.61755124  1.35134689]\n",
      " [ 2.05272218  1.46237449  1.82845107]\n",
      " [ 0.09805579  2.69420298  1.36164695]\n",
      " [ 6.21664498  0.41031843 -8.39881113]\n",
      " [ 6.08822878  5.68595815  7.49731928]\n",
      " [ 5.27278076  1.49377595 -3.51180737]\n",
      " [ 6.24800443  2.83887936 -0.94035215]\n",
      " [ 6.08083326  3.43617918  0.86586068]\n",
      " [ 6.04926433  0.10600785 -8.82648395]\n",
      " [ 6.13380675  5.59073843  7.3283685 ]\n",
      " [ 2.87178489  6.15728489 -0.81365717]\n",
      " [ 2.54703734  2.0171726   0.66852992]\n",
      " [ 2.34498501  1.40029467  1.38713129]\n",
      " [ 2.29280869  1.63931132  1.27511231]\n",
      " [ 5.54111915  4.5215068   3.31114056]\n",
      " [ 5.79785078  1.84773816 -3.4368115 ]\n",
      " [ 0.64348462  0.98258556  5.39343296]\n",
      " [ 3.74749947  0.73843539 -1.45608937]\n",
      " [ 6.13165918  5.85945485  8.1265888 ]\n",
      " [ 2.46173277  1.52165298  1.101332  ]]\n",
      "[ 1. -1. -1.  1.  1.  1.  1.  1.  1.  1.  1.  1.  1.  1. -1.  1.  1.  1.\n",
      "  1.  1.  1.  1.  1. -1.  1.  1. -1.  1. -1.  1.  1.  1.  1.  1.  1.  1.\n",
      "  1.  1.  1.  1.]\n"
     ]
    }
   ],
   "source": [
    "X = X.reshape(-1, 3)\n",
    "print(X)\n",
    "print(Y)"
   ]
  },
  {
   "cell_type": "code",
   "execution_count": 646,
   "metadata": {},
   "outputs": [
    {
     "name": "stdout",
     "output_type": "stream",
     "text": [
      "40 20\n"
     ]
    }
   ],
   "source": [
    "num_data = len(Y)\n",
    "num_train = int(0.5 * num_data)\n",
    "\n",
    "print(num_data, num_train)\n",
    "\n",
    "index = np.random.permutation(range(num_data))\n",
    "X_train = X[index[:num_train]]\n",
    "Y_train = Y[index[:num_train]]\n",
    "\n",
    "X_test = X[index[num_train:]]\n",
    "Y_test = Y[index[num_train:]]"
   ]
  },
  {
   "cell_type": "code",
   "execution_count": 647,
   "metadata": {},
   "outputs": [],
   "source": [
    "num_qubits = 2\n",
    "num_layers = 6\n",
    "var_init = (0.01 * np.random.randn(num_layers, num_qubits, 3), 0.0)"
   ]
  },
  {
   "cell_type": "code",
   "execution_count": 648,
   "metadata": {},
   "outputs": [
    {
     "name": "stdout",
     "output_type": "stream",
     "text": [
      "Iter:     1 | Cost: 1.3218162 | Acc train: 0.8500000 | Acc validation: 0.8500000 \n",
      "Iter:     2 | Cost: 1.2852410 | Acc train: 0.8500000 | Acc validation: 0.8500000 \n",
      "Iter:     3 | Cost: 1.2269789 | Acc train: 0.8500000 | Acc validation: 0.8500000 \n",
      "Iter:     4 | Cost: 1.1438986 | Acc train: 0.8500000 | Acc validation: 0.8500000 \n",
      "Iter:     5 | Cost: 1.0357078 | Acc train: 0.8500000 | Acc validation: 0.8500000 \n",
      "Iter:     6 | Cost: 0.9181339 | Acc train: 0.8500000 | Acc validation: 0.8500000 \n",
      "Iter:     7 | Cost: 0.7915565 | Acc train: 0.8500000 | Acc validation: 0.8500000 \n",
      "Iter:     8 | Cost: 0.6629287 | Acc train: 0.8500000 | Acc validation: 0.8500000 \n",
      "Iter:     9 | Cost: 0.5561416 | Acc train: 0.8500000 | Acc validation: 0.8500000 \n",
      "Iter:    10 | Cost: 0.4673627 | Acc train: 0.8500000 | Acc validation: 0.8500000 \n",
      "Iter:    11 | Cost: 0.4020251 | Acc train: 0.8500000 | Acc validation: 0.8500000 \n",
      "Iter:    12 | Cost: 0.3643526 | Acc train: 0.8500000 | Acc validation: 0.8500000 \n",
      "Iter:    13 | Cost: 0.3429853 | Acc train: 0.8500000 | Acc validation: 0.8500000 \n",
      "Iter:    14 | Cost: 0.3343188 | Acc train: 0.8500000 | Acc validation: 0.8500000 \n",
      "Iter:    15 | Cost: 0.3326802 | Acc train: 0.8500000 | Acc validation: 0.8500000 \n",
      "Iter:    16 | Cost: 0.3355281 | Acc train: 0.8500000 | Acc validation: 0.8500000 \n",
      "Iter:    17 | Cost: 0.3409459 | Acc train: 0.8500000 | Acc validation: 0.8500000 \n",
      "Iter:    18 | Cost: 0.3440416 | Acc train: 0.8500000 | Acc validation: 0.8500000 \n",
      "Iter:    19 | Cost: 0.3451619 | Acc train: 0.8500000 | Acc validation: 0.8500000 \n",
      "Iter:    20 | Cost: 0.3436185 | Acc train: 0.8500000 | Acc validation: 0.8500000 \n",
      "Iter:    21 | Cost: 0.3394710 | Acc train: 0.8500000 | Acc validation: 0.8500000 \n",
      "Iter:    22 | Cost: 0.3325772 | Acc train: 0.8500000 | Acc validation: 0.8500000 \n",
      "Iter:    23 | Cost: 0.3261682 | Acc train: 0.8500000 | Acc validation: 0.8500000 \n",
      "Iter:    24 | Cost: 0.3209663 | Acc train: 0.8500000 | Acc validation: 0.8500000 \n",
      "Iter:    25 | Cost: 0.3162343 | Acc train: 0.8500000 | Acc validation: 0.8500000 \n",
      "Iter:    26 | Cost: 0.3127583 | Acc train: 0.8500000 | Acc validation: 0.8500000 \n",
      "Iter:    27 | Cost: 0.3087775 | Acc train: 0.8500000 | Acc validation: 0.8500000 \n",
      "Iter:    28 | Cost: 0.3057727 | Acc train: 0.8500000 | Acc validation: 0.8500000 \n",
      "Iter:    29 | Cost: 0.3042329 | Acc train: 0.8500000 | Acc validation: 0.8500000 \n",
      "Iter:    30 | Cost: 0.3027054 | Acc train: 0.8500000 | Acc validation: 0.8500000 \n",
      "Iter:    31 | Cost: 0.3017381 | Acc train: 0.8500000 | Acc validation: 0.8500000 \n",
      "Iter:    32 | Cost: 0.3009997 | Acc train: 0.8500000 | Acc validation: 0.8500000 \n",
      "Iter:    33 | Cost: 0.3003944 | Acc train: 0.8500000 | Acc validation: 0.8500000 \n",
      "Iter:    34 | Cost: 0.3000045 | Acc train: 0.8500000 | Acc validation: 0.8500000 \n",
      "Iter:    35 | Cost: 0.3002396 | Acc train: 0.8500000 | Acc validation: 0.8500000 \n",
      "Iter:    36 | Cost: 0.3000787 | Acc train: 0.8500000 | Acc validation: 0.8500000 \n",
      "Iter:    37 | Cost: 0.2996285 | Acc train: 0.8500000 | Acc validation: 0.8500000 \n",
      "Iter:    38 | Cost: 0.2979879 | Acc train: 0.8500000 | Acc validation: 0.8500000 \n",
      "Iter:    39 | Cost: 0.2949525 | Acc train: 0.8500000 | Acc validation: 0.8500000 \n",
      "Iter:    40 | Cost: 0.2911749 | Acc train: 0.8500000 | Acc validation: 0.8500000 \n",
      "Iter:    41 | Cost: 0.2870384 | Acc train: 0.8500000 | Acc validation: 0.8500000 \n",
      "Iter:    42 | Cost: 0.2819659 | Acc train: 0.8500000 | Acc validation: 0.8500000 \n",
      "Iter:    43 | Cost: 0.2768884 | Acc train: 0.8500000 | Acc validation: 0.8500000 \n",
      "Iter:    44 | Cost: 0.2715007 | Acc train: 0.8500000 | Acc validation: 0.8500000 \n",
      "Iter:    45 | Cost: 0.2663293 | Acc train: 0.8500000 | Acc validation: 0.8500000 \n",
      "Iter:    46 | Cost: 0.2610773 | Acc train: 0.8500000 | Acc validation: 0.8500000 \n",
      "Iter:    47 | Cost: 0.2555811 | Acc train: 0.8500000 | Acc validation: 0.8500000 \n",
      "Iter:    48 | Cost: 0.2502427 | Acc train: 0.8500000 | Acc validation: 0.8500000 \n",
      "Iter:    49 | Cost: 0.2450967 | Acc train: 0.8500000 | Acc validation: 0.8500000 \n",
      "Iter:    50 | Cost: 0.2406967 | Acc train: 0.8500000 | Acc validation: 0.8500000 \n",
      "Iter:    51 | Cost: 0.2370261 | Acc train: 0.8500000 | Acc validation: 0.8500000 \n",
      "Iter:    52 | Cost: 0.2336789 | Acc train: 0.8500000 | Acc validation: 0.8500000 \n",
      "Iter:    53 | Cost: 0.2310685 | Acc train: 0.8500000 | Acc validation: 0.8500000 \n",
      "Iter:    54 | Cost: 0.2280280 | Acc train: 0.8500000 | Acc validation: 0.8500000 \n",
      "Iter:    55 | Cost: 0.2256691 | Acc train: 0.8500000 | Acc validation: 0.8500000 \n",
      "Iter:    56 | Cost: 0.2237059 | Acc train: 0.8500000 | Acc validation: 0.8500000 \n",
      "Iter:    57 | Cost: 0.2223214 | Acc train: 0.8500000 | Acc validation: 0.8500000 \n",
      "Iter:    58 | Cost: 0.2211376 | Acc train: 0.8500000 | Acc validation: 0.8500000 \n",
      "Iter:    59 | Cost: 0.2195940 | Acc train: 0.8500000 | Acc validation: 0.8500000 \n",
      "Iter:    60 | Cost: 0.2180380 | Acc train: 0.8500000 | Acc validation: 0.8500000 \n"
     ]
    }
   ],
   "source": [
    "opt = NesterovMomentumOptimizer(0.01)\n",
    "batch_size = 5\n",
    "\n",
    "# train the variational classifier\n",
    "var = var_init\n",
    "for it in range(100):\n",
    "\n",
    "    # Update the weights by one optimizer step\n",
    "    batch_index = np.random.randint(0, num_train, (batch_size, ))\n",
    "    X_train_batch = X_train[batch_index]\n",
    "    Y_train_batch = Y_train[batch_index]\n",
    "    var = opt.step(lambda v: cost(v, X_train_batch, Y_train_batch), var)\n",
    "\n",
    "    # Compute predictions on train and validation set\n",
    "    predictions_train = [np.sign(variational_classifier(var, x)) for f in X_train]\n",
    "    predictions_test = [np.sign(variational_classifier(var, x)) for f in X_test]\n",
    "\n",
    "    print(Y_train, predictions_train)\n",
    "    \n",
    "    # Compute accuracy on train and validation set\n",
    "    acc_train = accuracy(Y_train, predictions_train)\n",
    "    acc_test = accuracy(Y_test, predictions_test)\n",
    "\n",
    "    print(\"Iter: {:5d} | Cost: {:0.7f} | Acc train: {:0.7f} | Acc validation: {:0.7f} \"\n",
    "          \"\".format(it+1, cost(var, X, Y), acc_train, acc_test))"
   ]
  },
  {
   "cell_type": "code",
   "execution_count": null,
   "metadata": {
    "collapsed": true
   },
   "outputs": [],
   "source": []
  }
 ],
 "metadata": {
  "kernelspec": {
   "display_name": "Python 3",
   "language": "python",
   "name": "python3"
  },
  "language_info": {
   "codemirror_mode": {
    "name": "ipython",
    "version": 3
   },
   "file_extension": ".py",
   "mimetype": "text/x-python",
   "name": "python",
   "nbconvert_exporter": "python",
   "pygments_lexer": "ipython3",
   "version": "3.6.1"
  }
 },
 "nbformat": 4,
 "nbformat_minor": 2
}
