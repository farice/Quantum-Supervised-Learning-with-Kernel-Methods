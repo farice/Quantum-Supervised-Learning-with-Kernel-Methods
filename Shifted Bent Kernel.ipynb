{
 "cells": [
  {
   "cell_type": "markdown",
   "metadata": {},
   "source": [
    "# Supervised Learning with Kernel Methods\n",
    "\n",
    "Here we use a variational classifier to learn a nonlinear boundary using kernel methods.\n",
    "\n",
    "The variational circuit architecture is specified by [Farhi and Neven (2018)](https://arxiv.org/abs/1802.06002). \n",
    "The kernel map is specified by [Havlicek et al (2018)](https://arxiv.org/abs/1804.11326)"
   ]
  },
  {
   "cell_type": "code",
   "execution_count": 1,
   "metadata": {},
   "outputs": [],
   "source": [
    "import pennylane as qml\n",
    "from pennylane import numpy as np\n",
    "from pennylane.optimize import NesterovMomentumOptimizer\n",
    "\n",
    "from scipy.stats import unitary_group\n",
    "import matplotlib.pyplot as plt\n",
    "\n",
    "import itertools\n",
    "from functools import reduce"
   ]
  },
  {
   "cell_type": "code",
   "execution_count": 2,
   "metadata": {
    "collapsed": true
   },
   "outputs": [],
   "source": [
    "N = 2"
   ]
  },
  {
   "cell_type": "code",
   "execution_count": 4,
   "metadata": {},
   "outputs": [],
   "source": [
    "dev = qml.device('default.qubit', wires=N)"
   ]
  },
  {
   "cell_type": "markdown",
   "metadata": {},
   "source": [
    "We begin with a subgate in our kernel map."
   ]
  },
  {
   "cell_type": "code",
   "execution_count": null,
   "metadata": {
    "collapsed": true
   },
   "outputs": [],
   "source": []
  },
  {
   "cell_type": "code",
   "execution_count": 5,
   "metadata": {
    "collapsed": true
   },
   "outputs": [],
   "source": [
    "def U_phi(x):\n",
    "    # x_2 = (pi - x_0)(pi - x_1)\n",
    "    for i in range(N):\n",
    "        qml.RZ( x[i], wires=0)\n",
    "    \n",
    "    \n",
    "    for (j, pair) in enumerate(itertools.combinations(range(N), r=2)):\n",
    "        qml.CNOT(wires=[pair[0], pair[1]])\n",
    "        qml.RZ( x[N + j], pair[1])\n",
    "        qml.CNOT(wires=[pair[0], pair[1]])"
   ]
  },
  {
   "cell_type": "markdown",
   "metadata": {},
   "source": [
    "Our kernel map is specified by U_phi interlaced twice with hadamards on all qubits."
   ]
  },
  {
   "cell_type": "code",
   "execution_count": 6,
   "metadata": {
    "collapsed": true
   },
   "outputs": [],
   "source": [
    "def featuremap(x):\n",
    "    layers = 2\n",
    "    for i in range(layers):\n",
    "        for j in range(N):\n",
    "            qml.Hadamard(wires=j)\n",
    "        U_phi(x)"
   ]
  },
  {
   "cell_type": "markdown",
   "metadata": {},
   "source": [
    "OK. We are ready to define a layer of our variational circuit. This is the component of the circuit that is tunable by learned weights."
   ]
  },
  {
   "cell_type": "code",
   "execution_count": 7,
   "metadata": {
    "collapsed": true
   },
   "outputs": [],
   "source": [
    "def layer(W): # 6 weights are specified at each layer\n",
    "    \n",
    "    for i in range(N): \n",
    "        if i == (N-1):\n",
    "            qml.Rot(W[0, 0], W[0, 1], W[0, 2], wires=0)\n",
    "            qml.Rot(W[N-1, 0], W[N-1, 1], W[N-1, 2], wires=N-1)\n",
    "            \n",
    "            qml.CNOT(wires=[0, N-1])\n",
    "        else: \n",
    "            # euler angles\n",
    "            qml.Rot(W[i, 0], W[i, 1], W[i, 2], wires=i)\n",
    "            qml.Rot(W[i+1, 0], W[i+1, 1], W[i+1, 2], wires=i + 1)\n",
    "\n",
    "            qml.CNOT(wires=[i, i+1])"
   ]
  },
  {
   "cell_type": "markdown",
   "metadata": {},
   "source": [
    "We can fully specify our variational circuit. This circuit\n",
    "\n",
    "1. maps the classical data using the above feature map\n",
    "2. applies a specified number of the above variational layers which are parameterized by tunable weights\n",
    "3. Measures the expectation of Z on both qubits so as to compute expected parity\n",
    "\n",
    "Hence, we define two circuits for each expected Z on a qubit."
   ]
  },
  {
   "cell_type": "code",
   "execution_count": 8,
   "metadata": {
    "collapsed": true
   },
   "outputs": [],
   "source": [
    "@qml.qnode(dev)\n",
    "def circuit(weights, x, n=0):\n",
    "\n",
    "    featuremap(x)\n",
    "\n",
    "    for W in weights:\n",
    "        layer(W)\n",
    "\n",
    "    return qml.expval.PauliZ(wires=n)\n",
    "\n",
    "@qml.qnode(dev)\n",
    "def circuit1(weights, x):\n",
    "\n",
    "    featuremap(x)\n",
    "\n",
    "    for W in weights:\n",
    "        layer(W)\n",
    "\n",
    "    return qml.expval.PauliZ(wires=0)"
   ]
  },
  {
   "cell_type": "markdown",
   "metadata": {},
   "source": [
    "One more modification: we add a bias and specify multiplying the expectations of the two circuits."
   ]
  },
  {
   "cell_type": "code",
   "execution_count": 9,
   "metadata": {
    "collapsed": true
   },
   "outputs": [],
   "source": [
    "def variational_classifier(var, x): # x is a keyword argument -> fixed (not trained)\n",
    "    weights = var[0]\n",
    "    bias = var[1]\n",
    "    \n",
    "    exp_Z = circuit(weights, x, n=0)\n",
    "    for i in range(1, N):\n",
    "        e = circuit(weights,x,n=i)\n",
    "        exp_Z *= e\n",
    "\n",
    "    return exp_Z + bias"
   ]
  },
  {
   "cell_type": "markdown",
   "metadata": {},
   "source": [
    "Here, we use L2 loss"
   ]
  },
  {
   "cell_type": "code",
   "execution_count": 10,
   "metadata": {
    "collapsed": true
   },
   "outputs": [],
   "source": [
    "def square_loss(labels, predictions):\n",
    "\n",
    "    loss = 0\n",
    "    for l, p in zip(labels, predictions):\n",
    "        loss = loss + (l - p) ** 2\n",
    "    loss = loss / len(labels)\n",
    "\n",
    "    return loss"
   ]
  },
  {
   "cell_type": "code",
   "execution_count": 11,
   "metadata": {
    "collapsed": true
   },
   "outputs": [],
   "source": [
    "def accuracy(labels, predictions):\n",
    "    #print(labels, predictions)\n",
    "    loss = 0\n",
    "    for l, p in zip(labels, predictions):\n",
    "        if abs(l - p) < 1e-5:\n",
    "            loss = loss + 1\n",
    "    loss = loss / len(labels)\n",
    "\n",
    "    return loss"
   ]
  },
  {
   "cell_type": "code",
   "execution_count": 12,
   "metadata": {
    "collapsed": true
   },
   "outputs": [],
   "source": [
    "def cost(var, X, Y):\n",
    "\n",
    "    predictions = [variational_classifier(var, x) for x in X]\n",
    "    #if (len(Y) == num_data):\n",
    "    #    print(\"[(pred, label), ...]: \", list(zip(predictions, Y)))\n",
    "    return square_loss(Y, predictions) "
   ]
  },
  {
   "cell_type": "markdown",
   "metadata": {},
   "source": [
    "To generate a random element of SU(4), we generate a random element of U(4) and divide appropriately to scale the determinant to +1.\n",
    "\n",
    "It is essential to note that the same fixed element of SU(4) is used to generate labels for the initial dataset. In this sense, one sees that we primarily require the tunable layers of the variational circuit to approximate this matrix in order to well-classify samples."
   ]
  },
  {
   "cell_type": "code",
   "execution_count": 30,
   "metadata": {},
   "outputs": [
    {
     "name": "stdout",
     "output_type": "stream",
     "text": [
      "random unitary:  [[ 0.21375009-0.51917153j  0.56112531+0.23008224j  0.07127593+0.47911946j\n",
      "   0.09803369+0.26967768j]\n",
      " [ 0.01675533-0.0250638j   0.42589656+0.1990822j  -0.1383836 -0.1156673j\n",
      "  -0.03507413-0.86273421j]\n",
      " [-0.39006262-0.47158876j -0.01665245-0.02320803j -0.71321189-0.29777772j\n",
      "   0.08179762+0.1435467j ]\n",
      " [-0.3617431 -0.42244527j -0.46232708+0.44341482j  0.33486927+0.15282388j\n",
      "  -0.33461963-0.18126232j]]\n",
      "det:  (1.0000000000000007-1.7347234759768078e-16j)\n"
     ]
    }
   ],
   "source": [
    "random_U = unitary_group.rvs(2 ** N)\n",
    "random_U = random_U / (np.linalg.det(random_U) ** (1/(2**N))) # so that det = 1\n",
    "\n",
    "\n",
    "print(\"random unitary: \", random_U)\n",
    "print(\"det: \", np.linalg.det(random_U))"
   ]
  },
  {
   "cell_type": "markdown",
   "metadata": {},
   "source": [
    "We label classical data by\n",
    "\n",
    "1. applying the above feature map\n",
    "2. applying the fixed random unitary\n",
    "3. returning expected parity\n",
    "\n",
    "If the absolute value of the expected parity is above a predetermined threshold, then we can use this point and label by sign. If not, then we continue generating more random samples."
   ]
  },
  {
   "cell_type": "code",
   "execution_count": 31,
   "metadata": {
    "collapsed": true
   },
   "outputs": [],
   "source": [
    "@qml.qnode(dev)\n",
    "def data_label(x, i=0):\n",
    "    #print(u)\n",
    "    #print(\"label the following:\", x)\n",
    "    featuremap(x)\n",
    "    qml.QubitUnitary(random_U, wires=list(range(N)))\n",
    "    \n",
    "    return qml.expval.PauliZ(wires=i)"
   ]
  },
  {
   "cell_type": "code",
   "execution_count": 32,
   "metadata": {
    "collapsed": true
   },
   "outputs": [],
   "source": [
    "def gen_data(thresh):\n",
    "    #thresh = 0.3\n",
    "\n",
    "    X = np.array([])\n",
    "    Y = np.array([])\n",
    "    ctr = 0 # num valid data pts\n",
    "    maxval = 0.0\n",
    "    minval = 0.0\n",
    "\n",
    "    np.random.seed(0)\n",
    "\n",
    "    while ctr < 40:\n",
    "        x = np.random.rand(N) * 2 * np.pi\n",
    "        for pair in itertools.combinations(range(N), r=2):\n",
    "            x = np.append(x, (np.pi - x[pair[0]]) * (np.pi - x[pair[1]]))\n",
    "        \n",
    "        y = []\n",
    "        for i in range(N):\n",
    "            y.append(data_label(x, i=i))\n",
    "\n",
    "        y_prod = reduce((lambda x, y: x * y), y)\n",
    "        \n",
    "        #print(y, y_prod)\n",
    "        if (y_prod > maxval):\n",
    "            maxval = y_prod\n",
    "            print(\"new max separation: \", maxval)\n",
    "        elif (y_prod < minval):\n",
    "            minval = y_prod\n",
    "            print(\"new min separation: \", minval)\n",
    "\n",
    "        if y_prod > thresh:\n",
    "            Y = np.append(Y, +1)\n",
    "            X = np.append(X, x)\n",
    "            ctr += 1\n",
    "            #print(\"+1\")\n",
    "        elif y_prod < -1 * thresh:\n",
    "            Y = np.append(Y, -1)\n",
    "            X = np.append(X, x)\n",
    "            ctr += 1\n",
    "            #print(\"-1\")\n",
    "            \n",
    "    X = X.reshape(-1, 3)\n",
    "    print(\"Data: \", list(zip(X, Y)))\n",
    "    return X, Y"
   ]
  },
  {
   "cell_type": "markdown",
   "metadata": {},
   "source": [
    "We can divide our training and test data randomly from the generated dataset. We specify that half is used for each. "
   ]
  },
  {
   "cell_type": "code",
   "execution_count": 33,
   "metadata": {
    "collapsed": true
   },
   "outputs": [],
   "source": [
    "def divide_train_test(X, Y):\n",
    "    global num_data\n",
    "    num_data = len(Y)\n",
    "    global num_train\n",
    "    num_train = int(0.5 * num_data)\n",
    "\n",
    "    print(\"size data, size train: \", num_data, num_train)\n",
    "\n",
    "    index = np.random.permutation(range(num_data))\n",
    "    X_train = X[index[:num_train]]\n",
    "    Y_train = Y[index[:num_train]]\n",
    "\n",
    "    X_test = X[index[num_train:]]\n",
    "    Y_test = Y[index[num_train:]]\n",
    "    \n",
    "    return X_train, Y_train, X_test, Y_test"
   ]
  },
  {
   "cell_type": "code",
   "execution_count": 34,
   "metadata": {
    "collapsed": true
   },
   "outputs": [],
   "source": [
    "num_qubits = N\n",
    "num_layers = 4\n",
    "var_init = (0.01 * np.random.randn(num_layers, num_qubits, 3), 0.0)"
   ]
  },
  {
   "cell_type": "markdown",
   "metadata": {},
   "source": [
    "To learn the weights, we use a batch (size 5) momentum optimizer--Nesterov. We iterate 100 times for the specified dataset.\n",
    "\n",
    "As usual, we update our weights learning only from the training set. However, we evaluate across both datasets."
   ]
  },
  {
   "cell_type": "code",
   "execution_count": 35,
   "metadata": {
    "collapsed": true
   },
   "outputs": [],
   "source": [
    "num_iterations = 50\n",
    "\n",
    "def train_and_test(X_train, Y_train, X_test, Y_test):\n",
    "    opt = NesterovMomentumOptimizer(0.01)\n",
    "    batch_size = 5\n",
    "\n",
    "    # train the variational classifier\n",
    "    var = var_init\n",
    "    \n",
    "    test_accuracies = []\n",
    "    train_accuracies = []\n",
    "    costs = []\n",
    "    for it in range(num_iterations):\n",
    "\n",
    "        # Update the weights by one optimizer step\n",
    "        batch_index = np.random.randint(0, num_train, (batch_size, ))\n",
    "        X_train_batch = X_train[batch_index]\n",
    "        Y_train_batch = Y_train[batch_index]\n",
    "        var = opt.step(lambda v: cost(v, X_train_batch, Y_train_batch), var)\n",
    "\n",
    "        # Compute predictions on train and validation set\n",
    "        predictions_train = [np.sign(variational_classifier(var, f)) for f in X_train]\n",
    "        predictions_test = [np.sign(variational_classifier(var, f)) for f in X_test]\n",
    "\n",
    "        # Compute accuracy on train and validation set\n",
    "        acc_train = accuracy(Y_train, predictions_train)\n",
    "        acc_test = accuracy(Y_test, predictions_test)\n",
    "        \n",
    "        # Compute cost on all samples\n",
    "        c = cost(var, X, Y)\n",
    "        \n",
    "        costs.append(c)\n",
    "        test_accuracies.append(acc_test)\n",
    "        train_accuracies.append(acc_train)\n",
    "        \n",
    "        print(\"Iter: {:5d} | Cost: {:0.7f} | Acc train: {:0.7f} | Acc validation: {:0.7f} \"\n",
    "              \"\".format(it+1, c, acc_train, acc_test))\n",
    "        \n",
    "    return train_accuracies, test_accuracies, costs, var"
   ]
  },
  {
   "cell_type": "markdown",
   "metadata": {},
   "source": [
    "We experiment with various data thresholds to determine how robust this model truly is. Note that the same hidden SU(4) element is used throughout."
   ]
  },
  {
   "cell_type": "code",
   "execution_count": 36,
   "metadata": {},
   "outputs": [
    {
     "name": "stdout",
     "output_type": "stream",
     "text": [
      "New threshold:  0.2\n",
      "new min separation:  -0.5978105226547143\n",
      "new max separation:  0.06420510769465565\n",
      "new min separation:  -0.648207073543551\n",
      "new max separation:  0.1333518986560801\n",
      "new max separation:  0.3875713764210844\n",
      "new min separation:  -0.8439768880521193\n",
      "new min separation:  -0.8976953661213056\n",
      "new max separation:  0.4575104283836903\n",
      "Data:  [(array([3.44829694, 4.49366732, 0.4146871 ]), -1.0), (array([3.78727399, 3.42360201, 0.18208818]), -1.0), (array([ 2.74944154,  5.60317502, -0.96531227]), -1.0), (array([4.97455513, 3.32314479, 0.33277825]), -1.0), (array([ 0.12703594,  5.23150478, -6.30015864]), -1.0), (array([4.88930306, 5.46644755, 4.0631731 ]), 1.0), (array([6.14884039, 5.02126135, 5.65262943]), -1.0), (array([ 2.89956035,  4.90420945, -0.42661021]), -1.0), (array([ 0.74314013,  4.02074236, -2.10859883]), 1.0), (array([ 3.27886971,  2.60539781, -0.07360725]), -1.0), (array([ 1.66225193,  4.86465374, -2.54899443]), -1.0), (array([ 0.1180598 ,  3.88071828, -2.23477062]), 1.0), (array([3.84591085, 3.87631062, 0.51747524]), -1.0), (array([2.25885476, 2.74595275, 0.34924633]), -1.0), (array([1.98189478, 2.28526217, 0.99308464]), -1.0), (array([ 4.10360063,  1.59147808, -1.4912226 ]), 1.0), (array([2.929917  , 1.53577129, 0.33991329]), -1.0), (array([ 4.12384043,  0.86822909, -2.23300631]), 1.0), (array([ 6.13527576,  2.94462234, -0.58966669]), -1.0), (array([1.99794724, 2.60289116, 0.61608349]), -1.0), (array([ 3.56006193,  1.66749135, -0.61686611]), -1.0), (array([ 0.82811039,  4.50081656, -3.14454041]), -1.0), (array([ 3.68516945,  0.12633944, -1.6390217 ]), 1.0), (array([ 5.20838381,  0.02950255, -6.43204032]), -1.0), (array([4.61936028, 6.04560893, 4.29146123]), 1.0), (array([3.71990916, 3.59556477, 0.26253957]), -1.0), (array([ 2.80937161,  5.31814253, -0.72309567]), -1.0), (array([ 5.1132425 ,  2.49131905, -1.28211186]), 1.0), (array([5.53613466, 3.65224517, 1.22277891]), 1.0), (array([4.55690703, 3.14991399, 0.01177731]), -1.0), (array([3.58119515, 3.71256305, 0.25100001]), -1.0), (array([3.60859197, 4.10418179, 0.44952847]), -1.0), (array([ 5.6331684 ,  2.30945934, -2.07332318]), 1.0), (array([ 2.73862009,  5.60411972, -0.99233083]), -1.0), (array([4.48771044, 6.27594084, 4.21920183]), 1.0), (array([ 1.02097322,  3.86767481, -1.53974393]), 1.0), (array([2.55840811, 0.43458905, 1.57868266]), 1.0), (array([ 4.38207422,  2.84969272, -0.36209649]), -1.0), (array([6.12938239, 5.37717099, 6.67943799]), -1.0), (array([0.07360176, 2.26180889, 2.69916859]), -1.0)]\n",
      "size data, size train:  40 20\n",
      "Iter:     1 | Cost: 1.3185553 | Acc train: 0.2000000 | Acc validation: 0.5000000 \n",
      "Iter:     2 | Cost: 1.2144037 | Acc train: 0.4000000 | Acc validation: 0.5000000 \n",
      "Iter:     3 | Cost: 1.0942685 | Acc train: 0.4000000 | Acc validation: 0.5000000 \n",
      "Iter:     4 | Cost: 0.9787363 | Acc train: 0.4500000 | Acc validation: 0.5500000 \n",
      "Iter:     5 | Cost: 0.8715168 | Acc train: 0.6000000 | Acc validation: 0.6000000 \n",
      "Iter:     6 | Cost: 0.7849130 | Acc train: 0.6500000 | Acc validation: 0.6500000 \n",
      "Iter:     7 | Cost: 0.7249480 | Acc train: 0.7000000 | Acc validation: 0.6500000 \n",
      "Iter:     8 | Cost: 0.6878906 | Acc train: 0.8000000 | Acc validation: 0.6500000 \n",
      "Iter:     9 | Cost: 0.6602503 | Acc train: 0.8500000 | Acc validation: 0.6500000 \n",
      "Iter:    10 | Cost: 0.6456700 | Acc train: 0.8500000 | Acc validation: 0.7000000 \n",
      "Iter:    11 | Cost: 0.6368127 | Acc train: 0.8500000 | Acc validation: 0.7000000 \n",
      "Iter:    12 | Cost: 0.6317808 | Acc train: 0.8500000 | Acc validation: 0.7000000 \n",
      "Iter:    13 | Cost: 0.6282792 | Acc train: 0.8500000 | Acc validation: 0.7000000 \n",
      "Iter:    14 | Cost: 0.6261629 | Acc train: 0.8500000 | Acc validation: 0.7000000 \n",
      "Iter:    15 | Cost: 0.6218087 | Acc train: 0.9000000 | Acc validation: 0.7000000 \n",
      "Iter:    16 | Cost: 0.6198643 | Acc train: 0.9000000 | Acc validation: 0.7000000 \n",
      "Iter:    17 | Cost: 0.6195761 | Acc train: 0.9000000 | Acc validation: 0.6500000 \n",
      "Iter:    18 | Cost: 0.6212605 | Acc train: 0.8500000 | Acc validation: 0.6000000 \n",
      "Iter:    19 | Cost: 0.6293233 | Acc train: 0.8000000 | Acc validation: 0.6000000 \n",
      "Iter:    20 | Cost: 0.6319097 | Acc train: 0.8000000 | Acc validation: 0.6000000 \n",
      "Iter:    21 | Cost: 0.6377463 | Acc train: 0.8000000 | Acc validation: 0.6000000 \n",
      "Iter:    22 | Cost: 0.6414980 | Acc train: 0.8000000 | Acc validation: 0.6000000 \n",
      "Iter:    23 | Cost: 0.6422574 | Acc train: 0.8000000 | Acc validation: 0.6000000 \n",
      "Iter:    24 | Cost: 0.6383798 | Acc train: 0.8000000 | Acc validation: 0.6000000 \n",
      "Iter:    25 | Cost: 0.6307483 | Acc train: 0.8000000 | Acc validation: 0.6500000 \n",
      "Iter:    26 | Cost: 0.6174504 | Acc train: 0.8000000 | Acc validation: 0.6500000 \n",
      "Iter:    27 | Cost: 0.6060356 | Acc train: 0.8000000 | Acc validation: 0.6500000 \n",
      "Iter:    28 | Cost: 0.5969056 | Acc train: 0.8000000 | Acc validation: 0.6000000 \n",
      "Iter:    29 | Cost: 0.5938198 | Acc train: 0.8000000 | Acc validation: 0.6000000 \n",
      "Iter:    30 | Cost: 0.5919502 | Acc train: 0.8000000 | Acc validation: 0.6000000 \n",
      "Iter:    31 | Cost: 0.5886712 | Acc train: 0.8000000 | Acc validation: 0.6000000 \n",
      "Iter:    32 | Cost: 0.5855237 | Acc train: 0.8000000 | Acc validation: 0.6000000 \n",
      "Iter:    33 | Cost: 0.5821984 | Acc train: 0.8000000 | Acc validation: 0.6000000 \n",
      "Iter:    34 | Cost: 0.5764254 | Acc train: 0.8000000 | Acc validation: 0.6000000 \n",
      "Iter:    35 | Cost: 0.5735232 | Acc train: 0.8000000 | Acc validation: 0.6000000 \n",
      "Iter:    36 | Cost: 0.5763353 | Acc train: 0.8000000 | Acc validation: 0.6000000 \n",
      "Iter:    37 | Cost: 0.5820622 | Acc train: 0.8000000 | Acc validation: 0.5500000 \n",
      "Iter:    38 | Cost: 0.5954215 | Acc train: 0.8500000 | Acc validation: 0.6000000 \n",
      "Iter:    39 | Cost: 0.6007432 | Acc train: 0.8000000 | Acc validation: 0.6000000 \n",
      "Iter:    40 | Cost: 0.6006995 | Acc train: 0.8000000 | Acc validation: 0.6000000 \n",
      "Iter:    41 | Cost: 0.5962696 | Acc train: 0.9000000 | Acc validation: 0.6000000 \n",
      "Iter:    42 | Cost: 0.5881965 | Acc train: 0.9000000 | Acc validation: 0.6000000 \n",
      "Iter:    43 | Cost: 0.5828609 | Acc train: 0.9000000 | Acc validation: 0.6000000 \n",
      "Iter:    44 | Cost: 0.5826738 | Acc train: 0.8500000 | Acc validation: 0.6000000 \n",
      "Iter:    45 | Cost: 0.5847547 | Acc train: 0.8500000 | Acc validation: 0.6000000 \n",
      "Iter:    46 | Cost: 0.5874129 | Acc train: 0.8500000 | Acc validation: 0.6000000 \n",
      "Iter:    47 | Cost: 0.5892570 | Acc train: 0.9000000 | Acc validation: 0.6000000 \n",
      "Iter:    48 | Cost: 0.5921068 | Acc train: 0.9000000 | Acc validation: 0.6000000 \n",
      "Iter:    49 | Cost: 0.5881194 | Acc train: 0.9000000 | Acc validation: 0.6000000 \n",
      "Iter:    50 | Cost: 0.5850358 | Acc train: 0.9000000 | Acc validation: 0.6000000 \n",
      "Var:  [array([[[-0.09191984,  0.22036676, -0.03029352],\n",
      "        [-0.19393996,  0.41360055, -0.13235281]],\n",
      "\n",
      "       [[ 0.02186582,  0.26791696,  0.05871414],\n",
      "        [-0.11945172,  0.31361117,  0.01818483]],\n",
      "\n",
      "       [[ 0.09387921,  0.30238063,  0.06978283],\n",
      "        [ 0.0243688 ,  0.12243343,  0.09693698]],\n",
      "\n",
      "       [[ 0.04045156,  0.35041888, -0.01848338],\n",
      "        [ 0.08668537, -0.09111481,  0.10710132]]]), -0.27213009364410773]\n",
      "[[0.5, 0.5, 0.5, 0.55, 0.6, 0.65, 0.65, 0.65, 0.65, 0.7, 0.7, 0.7, 0.7, 0.7, 0.7, 0.7, 0.65, 0.6, 0.6, 0.6, 0.6, 0.6, 0.6, 0.6, 0.65, 0.65, 0.65, 0.6, 0.6, 0.6, 0.6, 0.6, 0.6, 0.6, 0.6, 0.6, 0.55, 0.6, 0.6, 0.6, 0.6, 0.6, 0.6, 0.6, 0.6, 0.6, 0.6, 0.6, 0.6, 0.6]]\n",
      "[[0.2, 0.4, 0.4, 0.45, 0.6, 0.65, 0.7, 0.8, 0.85, 0.85, 0.85, 0.85, 0.85, 0.85, 0.9, 0.9, 0.9, 0.85, 0.8, 0.8, 0.8, 0.8, 0.8, 0.8, 0.8, 0.8, 0.8, 0.8, 0.8, 0.8, 0.8, 0.8, 0.8, 0.8, 0.8, 0.8, 0.8, 0.85, 0.8, 0.8, 0.9, 0.9, 0.9, 0.85, 0.85, 0.85, 0.9, 0.9, 0.9, 0.9]]\n",
      "[[1.3185552542335661, 1.2144037161352195, 1.094268491042151, 0.9787363277780459, 0.8715168297911531, 0.7849130208047113, 0.7249479519337798, 0.6878905987033863, 0.6602502663048353, 0.6456700282419212, 0.6368126599724822, 0.6317808338286841, 0.6282792142825444, 0.626162911521222, 0.621808727341681, 0.6198642892778641, 0.6195760577085799, 0.6212604674756215, 0.6293233215723213, 0.6319096558164511, 0.6377463052841581, 0.6414980491998848, 0.642257392230727, 0.6383798026008676, 0.6307483425615099, 0.6174503906554213, 0.6060355689501509, 0.5969055719686996, 0.5938197759074184, 0.5919502412276823, 0.5886712158239638, 0.5855237301230397, 0.5821983635631829, 0.5764253852158328, 0.5735231688051304, 0.5763352624481564, 0.5820621522447964, 0.5954215443901195, 0.6007431587065797, 0.6006995434154504, 0.5962695682756227, 0.588196500747128, 0.5828609180212166, 0.5826738382680665, 0.5847547139445579, 0.5874129229307575, 0.5892569566412195, 0.5921068080865577, 0.5881194349479898, 0.5850357618238926]]\n"
     ]
    }
   ],
   "source": [
    "#thresholds = [0.0, 0.1, 0.2, 0.3]\n",
    "thresholds = [0.2]\n",
    "thresh_test_accuracies = []\n",
    "thresh_train_accuracies = []\n",
    "thresh_costs = []\n",
    "    \n",
    "for thresh in thresholds:\n",
    "        print(\"New threshold: \", thresh)\n",
    "        X, Y = gen_data(thresh)\n",
    "        X_train, Y_train, X_test, Y_test = divide_train_test(X, Y)\n",
    "        \n",
    "        trn_ac, tst_ac, costs, var = train_and_test(X_train, Y_train, X_test, Y_test)\n",
    "        thresh_train_accuracies.append(trn_ac)\n",
    "        thresh_test_accuracies.append(tst_ac)\n",
    "        thresh_costs.append(costs)\n",
    "        print(\"Var: \", var)\n",
    "        \n",
    "print(thresh_test_accuracies)\n",
    "print(thresh_train_accuracies)\n",
    "print(thresh_costs)"
   ]
  },
  {
   "cell_type": "code",
   "execution_count": 37,
   "metadata": {},
   "outputs": [
    {
     "data": {
      "image/png": "[encoded data removed]",
      "text/plain": [
       "<Figure size 432x288 with 1 Axes>"
      ]
     },
     "metadata": {},
     "output_type": "display_data"
    }
   ],
   "source": [
    "from matplotlib.colors import ListedColormap\n",
    "cm_bright = ListedColormap(['#FF0000', '#0000FF'])\n",
    "\n",
    "plt.figure()\n",
    "plt.scatter(X[:,0], X[:,1], c=Y,cmap=cm_bright, edgecolors='k')\n",
    "plt.show()"
   ]
  },
  {
   "cell_type": "code",
   "execution_count": 38,
   "metadata": {},
   "outputs": [],
   "source": [
    "import time, sys\n",
    "from IPython.display import clear_output\n",
    "\n",
    "def update_progress(progress, gamma):\n",
    "    bar_length = 20\n",
    "    if isinstance(progress, int):\n",
    "        progress = float(progress)\n",
    "    if not isinstance(progress, float):\n",
    "        progress = 0\n",
    "    if progress < 0:\n",
    "        progress = 0\n",
    "    if progress >= 1:\n",
    "        progress = 1\n",
    "        \n",
    "    block = int(round(bar_length * progress))\n",
    "    clear_output(wait = True)\n",
    "    text = \"Progress ({2}): [{0}] {1:.1f}%\".format( \"#\" * block + \"-\" * (bar_length - block), progress * 100, gamma)\n",
    "    print(text)"
   ]
  },
  {
   "cell_type": "code",
   "execution_count": 40,
   "metadata": {},
   "outputs": [
    {
     "name": "stdout",
     "output_type": "stream",
     "text": [
      "Progress (1.0): [####################] 100.0%\n"
     ]
    }
   ],
   "source": [
    "gamma = 0.1\n",
    "\n",
    "score = thresh_train_accuracies[0][-1]\n",
    "\n",
    "x_min = y_min = 0\n",
    "x_max = y_max = 2 * np.pi\n",
    "h = 0.1  # step size in the mesh\n",
    "\n",
    "cm = plt.cm.RdBu\n",
    "\n",
    "xx, yy = np.meshgrid(np.arange(x_min, x_max, h),\n",
    "                         np.arange(y_min, y_max, h))\n",
    "\n",
    "grid = np.c_[xx.ravel(), yy.ravel()]\n",
    "\n",
    "Z_dict = {}\n",
    "\n",
    "gammas = [0.0, 0.25, 0.5, 0.75, 1.0]\n",
    "\n",
    "for gamma in gammas:\n",
    "    Z = np.array([])\n",
    "\n",
    "    for i, f in enumerate(grid):    \n",
    "        Z = np.append(Z, np.sign(variational_classifier(var, [f, gamma * (np.pi - f[0])*(np.pi - f[1])])))\n",
    "        update_progress(i / len(grid), gamma)\n",
    "\n",
    "    update_progress(1, gamma)\n",
    "    Z = Z.reshape(xx.shape)\n",
    "    Z_dict[gamma] = Z \n",
    "\n",
    "#for i in range(int(x_max / h)):\n",
    "#    if Z[0, i] > 0:\n",
    "#        print(Z[0, i], grid[i])"
   ]
  },
  {
   "cell_type": "code",
   "execution_count": 41,
   "metadata": {
    "scrolled": true
   },
   "outputs": [
    {
     "data": {
      "image/png": "[encoded data removed]",
      "text/plain": [
       "<Figure size 1440x1440 with 5 Axes>"
      ]
     },
     "metadata": {},
     "output_type": "display_data"
    }
   ],
   "source": [
    "plt.figure(figsize=(20,20))\n",
    "\n",
    "for i, gamma in enumerate(gammas):\n",
    "    plt.subplot(len(gammas), 1, i + 1)\n",
    "    plt.scatter(X[:,0], X[:,1], c=Y,cmap=cm_bright, edgecolors='k')\n",
    "    plt.contourf(xx, yy, Z_dict[gamma], vmin=-1., vmax=1., cmap=cm, alpha=.5)\n",
    "\n",
    "    plt.xlim(xx.min(), xx.max())\n",
    "    plt.ylim(yy.min(), yy.max())\n",
    "    #plt.xticks(())\n",
    "    #plt.yticks(())\n",
    "\n",
    "    plt.title(\"Gamma=%0.2f\" % gamma)\n",
    "\n",
    "    plt.text(xx.max() - .3, yy.min() + .3, ('%.2f' % score).lstrip('0'),\n",
    "                    size=15, horizontalalignment='right')\n",
    "\n",
    "plt.show()"
   ]
  },
  {
   "cell_type": "code",
   "execution_count": null,
   "metadata": {},
   "outputs": [],
   "source": []
  },
  {
   "cell_type": "code",
   "execution_count": null,
   "metadata": {},
   "outputs": [],
   "source": [
    "%matplotlib inline\n",
    "\n",
    "plt.figure(figsize=(20,20)) \n",
    "\n",
    "num_thresh = len(thresholds)\n",
    "for i in range(num_thresh):\n",
    "    plt.subplot(num_thresh, 1, i + 1)\n",
    "    plt.plot(thresh_train_accuracies[i], '-', label='Training accuracy')\n",
    "    plt.plot(thresh_test_accuracies[i], '-', label='Test accuracy')\n",
    "\n",
    "    plt.title('Data Separation Threshold %0.2f' % thresholds[i])\n",
    "    plt.xlabel('# of iterations')\n",
    "    plt.ylabel('Classification accuracy')\n",
    "    plt.legend(loc='best')\n",
    "\n",
    "#plt.tight_layout()\n",
    "plt.show()"
   ]
  },
  {
   "cell_type": "code",
   "execution_count": null,
   "metadata": {},
   "outputs": [],
   "source": [
    "%matplotlib inline\n",
    "\n",
    "plt.figure(figsize=(20,20)) \n",
    "\n",
    "num_thresh = len(thresholds)\n",
    "for i in range(num_thresh):\n",
    "    plt.plot(thresh_costs[i], '-', label='Data Separation Threshold %0.2f' % thresholds[i])\n",
    "\n",
    "plt.xlabel('# of iterations')\n",
    "plt.ylabel('L2 Loss')\n",
    "plt.legend(loc='best')\n",
    "\n",
    "#plt.tight_layout()\n",
    "plt.show()"
   ]
  },
  {
   "cell_type": "code",
   "execution_count": null,
   "metadata": {},
   "outputs": [],
   "source": []
  },
  {
   "cell_type": "code",
   "execution_count": null,
   "metadata": {},
   "outputs": [],
   "source": []
  },
  {
   "cell_type": "code",
   "execution_count": null,
   "metadata": {
    "collapsed": true
   },
   "outputs": [],
   "source": []
  }
 ],
 "metadata": {
  "kernelspec": {
   "display_name": "Python 3",
   "language": "python",
   "name": "python3"
  },
  "language_info": {
   "codemirror_mode": {
    "name": "ipython",
    "version": 3
   },
   "file_extension": ".py",
   "mimetype": "text/x-python",
   "name": "python",
   "nbconvert_exporter": "python",
   "pygments_lexer": "ipython3",
   "version": "3.6.1"
  }
 },
 "nbformat": 4,
 "nbformat_minor": 2
}
